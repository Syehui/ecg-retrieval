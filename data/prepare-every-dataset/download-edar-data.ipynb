{
 "cells": [
  {
   "cell_type": "code",
   "execution_count": 1,
   "metadata": {
    "_cell_guid": "b1076dfc-b9ad-4769-8c92-a6c4dae69d19",
    "_uuid": "8f2839f25d086af736a60e9eeb907d3b93b6e0e5"
   },
   "outputs": [],
   "source": [
    "# This Python 3 environment comes with many helpful analytics libraries installed\n",
    "# It is defined by the kaggle/python Docker image: https://github.com/kaggle/docker-python\n",
    "# For example, here's several helpful packages to load\n",
    "\n",
    "import numpy as np # linear algebra\n",
    "import pandas as pd # data processing, CSV file I/O (e.g. pd.read_csv)\n",
    "\n",
    "# Input data files are available in the read-only \"../input/\" directory\n",
    "# For example, running this (by clicking run or pressing Shift+Enter) will list all files under the input directory\n",
    "\n",
    "import os\n",
    "for dirname, _, filenames in os.walk('/kaggle/input'):\n",
    "    for filename in filenames:\n",
    "        print(os.path.join(dirname, filename))\n",
    "\n",
    "# You can write up to 5GB to the current directory (/kaggle/working/) that gets preserved as output when you create a version using \"Save & Run All\" \n",
    "# You can also write temporary files to /kaggle/temp/, but they won't be saved outside of the current session"
   ]
  },
  {
   "cell_type": "code",
   "execution_count": 2,
   "metadata": {
    "_cell_guid": "79c7e3d0-c299-4dcb-8224-4455121ee9b0",
    "_uuid": "d629ff2d2480ee46fbb7e2d37f6b5fab8052498a"
   },
   "outputs": [
    {
     "name": "stdout",
     "output_type": "stream",
     "text": [
      "--2020-05-11 16:52:35--  https://s3-eu-west-1.amazonaws.com/pfigshare-u-files/15651296/RhythmNames.xlsx\r\n",
      "Resolving s3-eu-west-1.amazonaws.com (s3-eu-west-1.amazonaws.com)... 52.218.101.67\r\n",
      "Connecting to s3-eu-west-1.amazonaws.com (s3-eu-west-1.amazonaws.com)|52.218.101.67|:443... connected.\r\n",
      "HTTP request sent, awaiting response... 200 OK\r\n",
      "Length: 8756 (8.6K) [application/vnd.openxmlformats-officedocument.spreadsheetml.sheet]\r\n",
      "Saving to: ‘RhythmNames.xlsx’\r\n",
      "\r\n",
      "RhythmNames.xlsx    100%[===================>]   8.55K  --.-KB/s    in 0s      \r\n",
      "\r\n",
      "2020-05-11 16:52:35 (79.6 MB/s) - ‘RhythmNames.xlsx’ saved [8756/8756]\r\n",
      "\r\n",
      "--2020-05-11 16:52:36--  https://s3-eu-west-1.amazonaws.com/pfigshare-u-files/15652862/ECGDataDenoised.zip\r\n",
      "Resolving s3-eu-west-1.amazonaws.com (s3-eu-west-1.amazonaws.com)... 52.218.49.76\r\n",
      "Connecting to s3-eu-west-1.amazonaws.com (s3-eu-west-1.amazonaws.com)|52.218.49.76|:443... connected.\r\n",
      "HTTP request sent, awaiting response... 200 OK\r\n",
      "Length: 2008717980 (1.9G) [application/zip]\r\n",
      "Saving to: ‘ECGDataDenoised.zip’\r\n",
      "\r\n",
      "ECGDataDenoised.zip 100%[===================>]   1.87G  20.7MB/s    in 77s     \r\n",
      "\r\n",
      "2020-05-11 16:53:54 (24.9 MB/s) - ‘ECGDataDenoised.zip’ saved [2008717980/2008717980]\r\n",
      "\r\n",
      "--2020-05-11 16:53:54--  https://s3-eu-west-1.amazonaws.com/pfigshare-u-files/15653123/AttributesDictionary.xlsx\r\n",
      "Resolving s3-eu-west-1.amazonaws.com (s3-eu-west-1.amazonaws.com)... 52.218.21.202\r\n",
      "Connecting to s3-eu-west-1.amazonaws.com (s3-eu-west-1.amazonaws.com)|52.218.21.202|:443... connected.\r\n",
      "HTTP request sent, awaiting response... 200 OK\r\n",
      "Length: 9999 (9.8K) [application/vnd.openxmlformats-officedocument.spreadsheetml.sheet]\r\n",
      "Saving to: ‘AttributesDictionary.xlsx’\r\n",
      "\r\n",
      "AttributesDictionar 100%[===================>]   9.76K  --.-KB/s    in 0s      \r\n",
      "\r\n",
      "2020-05-11 16:53:55 (62.5 MB/s) - ‘AttributesDictionary.xlsx’ saved [9999/9999]\r\n",
      "\r\n",
      "--2020-05-11 16:53:56--  https://s3-eu-west-1.amazonaws.com/pfigshare-u-files/15651299/Diagnostics.xlsx\r\n",
      "Resolving s3-eu-west-1.amazonaws.com (s3-eu-west-1.amazonaws.com)... 52.218.21.202\r\n",
      "Connecting to s3-eu-west-1.amazonaws.com (s3-eu-west-1.amazonaws.com)|52.218.21.202|:443... connected.\r\n",
      "HTTP request sent, awaiting response... 200 OK\r\n",
      "Length: 1046706 (1022K) [application/vnd.openxmlformats-officedocument.spreadsheetml.sheet]\r\n",
      "Saving to: ‘Diagnostics.xlsx’\r\n",
      "\r\n",
      "Diagnostics.xlsx    100%[===================>]   1022K  1.90MB/s    in 0.5s    \r\n",
      "\r\n",
      "2020-05-11 16:53:57 (1.90 MB/s) - ‘Diagnostics.xlsx’ saved [1046706/1046706]\r\n",
      "\r\n",
      "--2020-05-11 16:53:57--  https://s3-eu-west-1.amazonaws.com/pfigshare-u-files/15651293/ConditionNames.xlsx\r\n",
      "Resolving s3-eu-west-1.amazonaws.com (s3-eu-west-1.amazonaws.com)... 52.218.36.26\r\n",
      "Connecting to s3-eu-west-1.amazonaws.com (s3-eu-west-1.amazonaws.com)|52.218.36.26|:443... connected.\r\n",
      "HTTP request sent, awaiting response... 200 OK\r\n",
      "Length: 9906 (9.7K) [application/vnd.openxmlformats-officedocument.spreadsheetml.sheet]\r\n",
      "Saving to: ‘ConditionNames.xlsx’\r\n",
      "\r\n",
      "ConditionNames.xlsx 100%[===================>]   9.67K  --.-KB/s    in 0s      \r\n",
      "\r\n",
      "2020-05-11 16:53:58 (69.6 MB/s) - ‘ConditionNames.xlsx’ saved [9906/9906]\r\n",
      "\r\n",
      "--2020-05-11 16:53:58--  https://s3-eu-west-1.amazonaws.com/pfigshare-u-files/15651326/ECGData.zip\r\n",
      "Resolving s3-eu-west-1.amazonaws.com (s3-eu-west-1.amazonaws.com)... 52.218.97.178\r\n",
      "Connecting to s3-eu-west-1.amazonaws.com (s3-eu-west-1.amazonaws.com)|52.218.97.178|:443... connected.\r\n",
      "HTTP request sent, awaiting response... 200 OK\r\n",
      "Length: 754581129 (720M) [application/zip]\r\n",
      "Saving to: ‘ECGData.zip’\r\n",
      "\r\n",
      "ECGData.zip         100%[===================>] 719.62M  28.8MB/s    in 26s     \r\n",
      "\r\n",
      "2020-05-11 16:54:25 (27.8 MB/s) - ‘ECGData.zip’ saved [754581129/754581129]\r\n",
      "\r\n"
     ]
    }
   ],
   "source": [
    "!wget https://s3-eu-west-1.amazonaws.com/pfigshare-u-files/15651296/RhythmNames.xlsx\n",
    "!wget https://s3-eu-west-1.amazonaws.com/pfigshare-u-files/15652862/ECGDataDenoised.zip\n",
    "!wget https://s3-eu-west-1.amazonaws.com/pfigshare-u-files/15653123/AttributesDictionary.xlsx\n",
    "!wget https://s3-eu-west-1.amazonaws.com/pfigshare-u-files/15651299/Diagnostics.xlsx\n",
    "!wget https://s3-eu-west-1.amazonaws.com/pfigshare-u-files/15651293/ConditionNames.xlsx\n",
    "!wget https://s3-eu-west-1.amazonaws.com/pfigshare-u-files/15651326/ECGData.zip"
   ]
  }
 ],
 "metadata": {
  "kernelspec": {
   "display_name": "Python 3",
   "language": "python",
   "name": "python3"
  },
  "language_info": {
   "codemirror_mode": {
    "name": "ipython",
    "version": 3
   },
   "file_extension": ".py",
   "mimetype": "text/x-python",
   "name": "python",
   "nbconvert_exporter": "python",
   "pygments_lexer": "ipython3",
   "version": "3.7.6"
  }
 },
 "nbformat": 4,
 "nbformat_minor": 4
}
