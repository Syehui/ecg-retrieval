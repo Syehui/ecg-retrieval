{
 "cells": [
  {
   "cell_type": "code",
   "execution_count": 1,
   "metadata": {
    "_cell_guid": "b1076dfc-b9ad-4769-8c92-a6c4dae69d19",
    "_uuid": "8f2839f25d086af736a60e9eeb907d3b93b6e0e5"
   },
   "outputs": [
    {
     "name": "stdout",
     "output_type": "stream",
     "text": [
      "/kaggle/src/script.ipynb\n",
      "/kaggle/lib/kaggle/gcp.py\n",
      "/kaggle/input/download-physionet-data/custom.css\n",
      "/kaggle/input/download-physionet-data/__notebook__.ipynb\n",
      "/kaggle/input/download-physionet-data/phycom_ptbxl_data\n",
      "/kaggle/input/download-physionet-data/label_dict\n",
      "/kaggle/input/download-physionet-data/__results__.html\n",
      "/kaggle/input/download-physionet-data/__output__.json\n",
      "/kaggle/input/download-physionet-data/Dx_map.csv\n",
      "/kaggle/working/__notebook__.ipynb\n"
     ]
    }
   ],
   "source": [
    "# This Python 3 environment comes with many helpful analytics libraries installed\n",
    "# It is defined by the kaggle/python Docker image: https://github.com/kaggle/docker-python\n",
    "# For example, here's several helpful packages to load\n",
    "\n",
    "import numpy as np # linear algebra\n",
    "import pandas as pd # data processing, CSV file I/O (e.g. pd.read_csv)\n",
    "from tqdm.notebook import tqdm\n",
    "\n",
    "\n",
    "# Input data files are available in the read-only \"../input/\" directory\n",
    "# For example, running this (by clicking run or pressing Shift+Enter) will list all files under the input directory\n",
    "\n",
    "import os\n",
    "for dirname, _, filenames in os.walk('/kaggle/'):\n",
    "    for filename in filenames:\n",
    "        print(os.path.join(dirname, filename))\n",
    "\n",
    "        \n",
    "pd.options.display.max_columns = None\n",
    "pd.options.display.max_rows = None\n",
    "# You can write up to 5GB to the current directory (/kaggle/working/) that gets preserved as output when you create a version using \"Save & Run All\" \n",
    "# You can also write temporary files to /kaggle/temp/, but they won't be saved outside of the current session"
   ]
  },
  {
   "cell_type": "code",
   "execution_count": 2,
   "metadata": {},
   "outputs": [
    {
     "data": {
      "application/vnd.jupyter.widget-view+json": {
       "model_id": "ada6c3846f6e4c5084d561c8123ba17a",
       "version_major": 2,
       "version_minor": 0
      },
      "text/plain": [
       "HBox(children=(FloatProgress(value=0.0, max=21837.0), HTML(value='')))"
      ]
     },
     "metadata": {},
     "output_type": "display_data"
    },
    {
     "name": "stdout",
     "output_type": "stream",
     "text": [
      "\n"
     ]
    }
   ],
   "source": [
    "!cp ../input/download-physionet-data/Dx_map.csv .\n",
    "!cp ../input/download-physionet-data/label_dict .\n",
    "\n",
    "from random import shuffle\n",
    "import gzip\n",
    "ptbxl_add = '../input/download-physionet-data/phycom_ptbxl_data'\n",
    "ptbxl_f = gzip.open(ptbxl_add,'rt')\n",
    "datas = []\n",
    "for line in ptbxl_f:\n",
    "    datas.append(line)\n",
    "\n",
    "shuffle(datas)\n",
    "\n",
    "f = gzip.open('phycom_ptbxl_data','wt+')\n",
    "#f = open('phycom_ptbxl_data','w+')\n",
    "for line in tqdm(datas):\n",
    "    f.write(line)\n",
    "    if line[-1] != '\\n':\n",
    "        f.write('\\n')\n",
    "\n",
    "#sum([1 for line in open('phycom_ptbxl_data')])"
   ]
  },
  {
   "cell_type": "code",
   "execution_count": 3,
   "metadata": {
    "_cell_guid": "79c7e3d0-c299-4dcb-8224-4455121ee9b0",
    "_uuid": "d629ff2d2480ee46fbb7e2d37f6b5fab8052498a"
   },
   "outputs": [],
   "source": [
    "#!wget -r -N -c -np -q https://physionet.org/files/ludb/1.0.0/\n",
    "#!wget -r -N -c -np -q https://physionet.org/files/ptb-xl/1.0.1/"
   ]
  },
  {
   "cell_type": "code",
   "execution_count": 4,
   "metadata": {},
   "outputs": [
    {
     "data": {
      "text/plain": [
       "'#prepare the label dict stuff\\n!wget https://raw.githubusercontent.com/physionetchallenges/physionetchallenges.github.io/master/2020/Dx_map.csv\\nlabels = pd.read_csv(\\'Dx_map.csv\\')\\nlabels[\\'index\\'] = range(len(labels))\\nlabel_dict = {}\\nf = open(\\'label_dict\\',\\'w+\\')\\nfor count,out in enumerate(zip(labels[\\'dx\\'],labels[\\'SNOMED code\\'],labels[\\'Abbreviation\\'],labels[\\'index\\'])):\\n    label_dict[out[1]] = count\\n    print_str = \\'\\t\\'.join([str(item) for item in out])\\n    f.write(print_str + \\'\\n\\')\\nf.close()\\n\\nimport wfdb\\nimport base64\\nimport datetime\\nimport gzip\\nlabel_count = {}\\ndef prepare_data(dir_add, outfile):\\n    \\n    names = os.listdir(dir_add)\\n    names = [name[:-4] for name in names]\\n    names = list(set(names))\\n\\n    f = gzip.open(outfile,\\'at+\\')\\n    for name in tqdm(names):\\n        file_add = dir_add + name\\n        data = wfdb.rdsamp(file_add)\\n        \\n        label = []\\n        for item in data[1][\\'comments\\'][2][4:].split(\\',\\'):\\n            try:\\n                label.append(label_dict[int(item)])\\n            except:\\n                print(\\'cannot found label \\', item)\\n                label_dict[int(item)] = len(label_dict)\\n                label.append(label_dict[int(item)])\\n                print(\\'label\\', item, \\'added\\')\\n                \\n        if(len(label) == 0): continue\\n        #print(label)\\n        fea = str(data[1])\\n        data = np.asarray(data[0])\\n        #onehot_label = [0] * len(label_dict)\\n        onehot_label = [0] * 123\\n        for label_item in label:\\n            onehot_label[label_item] = 1\\n            label_count[label_item] = label_count.get(label_item,0) + 1\\n        onehot_label = np.asarray(onehot_label)\\n        output_str = [name, base64.b64encode(data.astype(np.float16)).decode(\"utf-8\"), base64.b64encode(onehot_label.astype(np.float16)).decode(\"utf-8\"), fea]\\n        f.write(\\'\\t\\'.join(output_str) + \\'\\n\\')\\n        #break'"
      ]
     },
     "execution_count": 4,
     "metadata": {},
     "output_type": "execute_result"
    }
   ],
   "source": [
    "\"\"\"#prepare the label dict stuff\n",
    "!wget https://raw.githubusercontent.com/physionetchallenges/physionetchallenges.github.io/master/2020/Dx_map.csv\n",
    "labels = pd.read_csv('Dx_map.csv')\n",
    "labels['index'] = range(len(labels))\n",
    "label_dict = {}\n",
    "f = open('label_dict','w+')\n",
    "for count,out in enumerate(zip(labels['dx'],labels['SNOMED code'],labels['Abbreviation'],labels['index'])):\n",
    "    label_dict[out[1]] = count\n",
    "    print_str = '\\t'.join([str(item) for item in out])\n",
    "    f.write(print_str + '\\n')\n",
    "f.close()\n",
    "\n",
    "import wfdb\n",
    "import base64\n",
    "import datetime\n",
    "import gzip\n",
    "label_count = {}\n",
    "def prepare_data(dir_add, outfile):\n",
    "    \n",
    "    names = os.listdir(dir_add)\n",
    "    names = [name[:-4] for name in names]\n",
    "    names = list(set(names))\n",
    "\n",
    "    f = gzip.open(outfile,'at+')\n",
    "    for name in tqdm(names):\n",
    "        file_add = dir_add + name\n",
    "        data = wfdb.rdsamp(file_add)\n",
    "        \n",
    "        label = []\n",
    "        for item in data[1]['comments'][2][4:].split(','):\n",
    "            try:\n",
    "                label.append(label_dict[int(item)])\n",
    "            except:\n",
    "                print('cannot found label ', item)\n",
    "                label_dict[int(item)] = len(label_dict)\n",
    "                label.append(label_dict[int(item)])\n",
    "                print('label', item, 'added')\n",
    "                \n",
    "        if(len(label) == 0): continue\n",
    "        #print(label)\n",
    "        fea = str(data[1])\n",
    "        data = np.asarray(data[0])\n",
    "        #onehot_label = [0] * len(label_dict)\n",
    "        onehot_label = [0] * 123\n",
    "        for label_item in label:\n",
    "            onehot_label[label_item] = 1\n",
    "            label_count[label_item] = label_count.get(label_item,0) + 1\n",
    "        onehot_label = np.asarray(onehot_label)\n",
    "        output_str = [name, base64.b64encode(data.astype(np.float16)).decode(\"utf-8\"), base64.b64encode(onehot_label.astype(np.float16)).decode(\"utf-8\"), fea]\n",
    "        f.write('\\t'.join(output_str) + '\\n')\n",
    "        #break\"\"\""
   ]
  },
  {
   "cell_type": "code",
   "execution_count": 5,
   "metadata": {},
   "outputs": [
    {
     "data": {
      "text/plain": [
       "\"#1G\\n!wget -O PhysioNetChallenge2020_Training_PTB-XL.tar.gz https://cloudypipeline.com:9555/api/download/physionet2020training/PhysioNetChallenge2020_PTB-XL.tar.gz/\\n!tar -zxf PhysioNetChallenge2020_Training_PTB-XL.tar.gz\\n!rm PhysioNetChallenge2020_Training_PTB-XL.tar.gz\\nprint('prepared')\\n\\nprepare_data('/kaggle/working/WFDB/','phycom_ptbxl_data')\\nprint(sum([1 for line in gzip.open('phycom_ptbxl_data','rt')]))\\n!rm -rf /kaggle/working/WFDB/\""
      ]
     },
     "execution_count": 5,
     "metadata": {},
     "output_type": "execute_result"
    }
   ],
   "source": [
    "\"\"\"#1G\n",
    "!wget -O PhysioNetChallenge2020_Training_PTB-XL.tar.gz \\\n",
    "https://cloudypipeline.com:9555/api/download/physionet2020training/PhysioNetChallenge2020_PTB-XL.tar.gz/\n",
    "!tar -zxf PhysioNetChallenge2020_Training_PTB-XL.tar.gz\n",
    "!rm PhysioNetChallenge2020_Training_PTB-XL.tar.gz\n",
    "print('prepared')\n",
    "\n",
    "prepare_data('/kaggle/working/WFDB/','phycom_ptbxl_data')\n",
    "print(sum([1 for line in gzip.open('phycom_ptbxl_data','rt')]))\n",
    "!rm -rf /kaggle/working/WFDB/\"\"\""
   ]
  }
 ],
 "metadata": {
  "kernelspec": {
   "display_name": "Python 3",
   "language": "python",
   "name": "python3"
  },
  "language_info": {
   "codemirror_mode": {
    "name": "ipython",
    "version": 3
   },
   "file_extension": ".py",
   "mimetype": "text/x-python",
   "name": "python",
   "nbconvert_exporter": "python",
   "pygments_lexer": "ipython3",
   "version": "3.7.6"
  },
  "widgets": {
   "application/vnd.jupyter.widget-state+json": {
    "state": {
     "21f8e703b6494e68aba31c73d3eae526": {
      "model_module": "@jupyter-widgets/controls",
      "model_module_version": "1.5.0",
      "model_name": "FloatProgressModel",
      "state": {
       "_dom_classes": [],
       "_model_module": "@jupyter-widgets/controls",
       "_model_module_version": "1.5.0",
       "_model_name": "FloatProgressModel",
       "_view_count": null,
       "_view_module": "@jupyter-widgets/controls",
       "_view_module_version": "1.5.0",
       "_view_name": "ProgressView",
       "bar_style": "success",
       "description": "100%",
       "description_tooltip": null,
       "layout": "IPY_MODEL_f4ff0ca2e7ca4a81886f5b93df8943e1",
       "max": 21837.0,
       "min": 0.0,
       "orientation": "horizontal",
       "style": "IPY_MODEL_7833e95899884135866b100c33e3c907",
       "value": 21837.0
      }
     },
     "248e0787061c4068a5d0ea783523f5b4": {
      "model_module": "@jupyter-widgets/controls",
      "model_module_version": "1.5.0",
      "model_name": "DescriptionStyleModel",
      "state": {
       "_model_module": "@jupyter-widgets/controls",
       "_model_module_version": "1.5.0",
       "_model_name": "DescriptionStyleModel",
       "_view_count": null,
       "_view_module": "@jupyter-widgets/base",
       "_view_module_version": "1.2.0",
       "_view_name": "StyleView",
       "description_width": ""
      }
     },
     "7833e95899884135866b100c33e3c907": {
      "model_module": "@jupyter-widgets/controls",
      "model_module_version": "1.5.0",
      "model_name": "ProgressStyleModel",
      "state": {
       "_model_module": "@jupyter-widgets/controls",
       "_model_module_version": "1.5.0",
       "_model_name": "ProgressStyleModel",
       "_view_count": null,
       "_view_module": "@jupyter-widgets/base",
       "_view_module_version": "1.2.0",
       "_view_name": "StyleView",
       "bar_color": null,
       "description_width": "initial"
      }
     },
     "a3cab69d67ff42edbf57724da0242726": {
      "model_module": "@jupyter-widgets/base",
      "model_module_version": "1.2.0",
      "model_name": "LayoutModel",
      "state": {
       "_model_module": "@jupyter-widgets/base",
       "_model_module_version": "1.2.0",
       "_model_name": "LayoutModel",
       "_view_count": null,
       "_view_module": "@jupyter-widgets/base",
       "_view_module_version": "1.2.0",
       "_view_name": "LayoutView",
       "align_content": null,
       "align_items": null,
       "align_self": null,
       "border": null,
       "bottom": null,
       "display": null,
       "flex": null,
       "flex_flow": null,
       "grid_area": null,
       "grid_auto_columns": null,
       "grid_auto_flow": null,
       "grid_auto_rows": null,
       "grid_column": null,
       "grid_gap": null,
       "grid_row": null,
       "grid_template_areas": null,
       "grid_template_columns": null,
       "grid_template_rows": null,
       "height": null,
       "justify_content": null,
       "justify_items": null,
       "left": null,
       "margin": null,
       "max_height": null,
       "max_width": null,
       "min_height": null,
       "min_width": null,
       "object_fit": null,
       "object_position": null,
       "order": null,
       "overflow": null,
       "overflow_x": null,
       "overflow_y": null,
       "padding": null,
       "right": null,
       "top": null,
       "visibility": null,
       "width": null
      }
     },
     "ada6c3846f6e4c5084d561c8123ba17a": {
      "model_module": "@jupyter-widgets/controls",
      "model_module_version": "1.5.0",
      "model_name": "HBoxModel",
      "state": {
       "_dom_classes": [],
       "_model_module": "@jupyter-widgets/controls",
       "_model_module_version": "1.5.0",
       "_model_name": "HBoxModel",
       "_view_count": null,
       "_view_module": "@jupyter-widgets/controls",
       "_view_module_version": "1.5.0",
       "_view_name": "HBoxView",
       "box_style": "",
       "children": [
        "IPY_MODEL_21f8e703b6494e68aba31c73d3eae526",
        "IPY_MODEL_d7c6e2341e9548efa651f27b04f34b3c"
       ],
       "layout": "IPY_MODEL_a3cab69d67ff42edbf57724da0242726"
      }
     },
     "d7c6e2341e9548efa651f27b04f34b3c": {
      "model_module": "@jupyter-widgets/controls",
      "model_module_version": "1.5.0",
      "model_name": "HTMLModel",
      "state": {
       "_dom_classes": [],
       "_model_module": "@jupyter-widgets/controls",
       "_model_module_version": "1.5.0",
       "_model_name": "HTMLModel",
       "_view_count": null,
       "_view_module": "@jupyter-widgets/controls",
       "_view_module_version": "1.5.0",
       "_view_name": "HTMLView",
       "description": "",
       "description_tooltip": null,
       "layout": "IPY_MODEL_fc7e132e98e24302b36a064fc5126633",
       "placeholder": "​",
       "style": "IPY_MODEL_248e0787061c4068a5d0ea783523f5b4",
       "value": " 21837/21837 [03:28&lt;00:00, 104.75it/s]"
      }
     },
     "f4ff0ca2e7ca4a81886f5b93df8943e1": {
      "model_module": "@jupyter-widgets/base",
      "model_module_version": "1.2.0",
      "model_name": "LayoutModel",
      "state": {
       "_model_module": "@jupyter-widgets/base",
       "_model_module_version": "1.2.0",
       "_model_name": "LayoutModel",
       "_view_count": null,
       "_view_module": "@jupyter-widgets/base",
       "_view_module_version": "1.2.0",
       "_view_name": "LayoutView",
       "align_content": null,
       "align_items": null,
       "align_self": null,
       "border": null,
       "bottom": null,
       "display": null,
       "flex": null,
       "flex_flow": null,
       "grid_area": null,
       "grid_auto_columns": null,
       "grid_auto_flow": null,
       "grid_auto_rows": null,
       "grid_column": null,
       "grid_gap": null,
       "grid_row": null,
       "grid_template_areas": null,
       "grid_template_columns": null,
       "grid_template_rows": null,
       "height": null,
       "justify_content": null,
       "justify_items": null,
       "left": null,
       "margin": null,
       "max_height": null,
       "max_width": null,
       "min_height": null,
       "min_width": null,
       "object_fit": null,
       "object_position": null,
       "order": null,
       "overflow": null,
       "overflow_x": null,
       "overflow_y": null,
       "padding": null,
       "right": null,
       "top": null,
       "visibility": null,
       "width": null
      }
     },
     "fc7e132e98e24302b36a064fc5126633": {
      "model_module": "@jupyter-widgets/base",
      "model_module_version": "1.2.0",
      "model_name": "LayoutModel",
      "state": {
       "_model_module": "@jupyter-widgets/base",
       "_model_module_version": "1.2.0",
       "_model_name": "LayoutModel",
       "_view_count": null,
       "_view_module": "@jupyter-widgets/base",
       "_view_module_version": "1.2.0",
       "_view_name": "LayoutView",
       "align_content": null,
       "align_items": null,
       "align_self": null,
       "border": null,
       "bottom": null,
       "display": null,
       "flex": null,
       "flex_flow": null,
       "grid_area": null,
       "grid_auto_columns": null,
       "grid_auto_flow": null,
       "grid_auto_rows": null,
       "grid_column": null,
       "grid_gap": null,
       "grid_row": null,
       "grid_template_areas": null,
       "grid_template_columns": null,
       "grid_template_rows": null,
       "height": null,
       "justify_content": null,
       "justify_items": null,
       "left": null,
       "margin": null,
       "max_height": null,
       "max_width": null,
       "min_height": null,
       "min_width": null,
       "object_fit": null,
       "object_position": null,
       "order": null,
       "overflow": null,
       "overflow_x": null,
       "overflow_y": null,
       "padding": null,
       "right": null,
       "top": null,
       "visibility": null,
       "width": null
      }
     }
    },
    "version_major": 2,
    "version_minor": 0
   }
  }
 },
 "nbformat": 4,
 "nbformat_minor": 4
}
