{
 "cells": [
  {
   "cell_type": "code",
   "execution_count": 1,
   "metadata": {
    "_cell_guid": "b1076dfc-b9ad-4769-8c92-a6c4dae69d19",
    "_uuid": "8f2839f25d086af736a60e9eeb907d3b93b6e0e5",
    "execution": {
     "iopub.execute_input": "2020-09-05T16:18:00.644498Z",
     "iopub.status.busy": "2020-09-05T16:18:00.639659Z",
     "iopub.status.idle": "2020-09-05T16:18:51.305038Z",
     "shell.execute_reply": "2020-09-05T16:18:51.304264Z"
    },
    "papermill": {
     "duration": 50.690205,
     "end_time": "2020-09-05T16:18:51.305206",
     "exception": false,
     "start_time": "2020-09-05T16:18:00.615001",
     "status": "completed"
    },
    "tags": []
   },
   "outputs": [
    {
     "name": "stdout",
     "output_type": "stream",
     "text": [
      "Collecting biosppy\r\n",
      "  Downloading biosppy-0.6.1-py2.py3-none-any.whl (76 kB)\r\n",
      "\u001b[K     |████████████████████████████████| 76 kB 416 kB/s \r\n",
      "\u001b[?25hCollecting bidict\r\n",
      "  Downloading bidict-0.21.0-py2.py3-none-any.whl (37 kB)\r\n",
      "Requirement already satisfied: shortuuid in /opt/conda/lib/python3.7/site-packages (from biosppy) (1.0.1)\r\n",
      "Requirement already satisfied: scikit-learn in /opt/conda/lib/python3.7/site-packages (from biosppy) (0.23.2)\r\n",
      "Requirement already satisfied: scipy in /opt/conda/lib/python3.7/site-packages (from biosppy) (1.4.1)\r\n",
      "Requirement already satisfied: matplotlib in /opt/conda/lib/python3.7/site-packages (from biosppy) (3.2.1)\r\n",
      "Requirement already satisfied: six in /opt/conda/lib/python3.7/site-packages (from biosppy) (1.14.0)\r\n",
      "Requirement already satisfied: h5py in /opt/conda/lib/python3.7/site-packages (from biosppy) (2.10.0)\r\n",
      "Requirement already satisfied: numpy in /opt/conda/lib/python3.7/site-packages (from biosppy) (1.18.5)\r\n",
      "Requirement already satisfied: threadpoolctl>=2.0.0 in /opt/conda/lib/python3.7/site-packages (from scikit-learn->biosppy) (2.1.0)\r\n",
      "Requirement already satisfied: joblib>=0.11 in /opt/conda/lib/python3.7/site-packages (from scikit-learn->biosppy) (0.14.1)\r\n",
      "Requirement already satisfied: pyparsing!=2.0.4,!=2.1.2,!=2.1.6,>=2.0.1 in /opt/conda/lib/python3.7/site-packages (from matplotlib->biosppy) (2.4.7)\r\n",
      "Requirement already satisfied: kiwisolver>=1.0.1 in /opt/conda/lib/python3.7/site-packages (from matplotlib->biosppy) (1.2.0)\r\n",
      "Requirement already satisfied: python-dateutil>=2.1 in /opt/conda/lib/python3.7/site-packages (from matplotlib->biosppy) (2.8.1)\r\n",
      "Requirement already satisfied: cycler>=0.10 in /opt/conda/lib/python3.7/site-packages (from matplotlib->biosppy) (0.10.0)\r\n",
      "Installing collected packages: bidict, biosppy\r\n",
      "Successfully installed bidict-0.21.0 biosppy-0.6.1\r\n",
      "\u001b[33mWARNING: You are using pip version 20.2.1; however, version 20.2.2 is available.\r\n",
      "You should consider upgrading via the '/opt/conda/bin/python3.7 -m pip install --upgrade pip' command.\u001b[0m\r\n",
      "Collecting pyentrp\r\n",
      "  Downloading pyentrp-0.6.0.tar.gz (4.5 kB)\r\n",
      "Requirement already satisfied: numpy>=1.7.0 in /opt/conda/lib/python3.7/site-packages (from pyentrp) (1.18.5)\r\n",
      "Building wheels for collected packages: pyentrp\r\n",
      "  Building wheel for pyentrp (setup.py) ... \u001b[?25l-\b \b\\\b \bdone\r\n",
      "\u001b[?25h  Created wheel for pyentrp: filename=pyentrp-0.6.0-py2.py3-none-any.whl size=5040 sha256=327590df3356e7575f818aff1f27b8a0ad5617eba5d183db85bd8d66a2e2007b\r\n",
      "  Stored in directory: /root/.cache/pip/wheels/74/87/62/e61a7ae7fcbc8fd2864c663c1bd3edd63ddd574bbbdb6cccb2\r\n",
      "Successfully built pyentrp\r\n",
      "Installing collected packages: pyentrp\r\n",
      "Successfully installed pyentrp-0.6.0\r\n",
      "\u001b[33mWARNING: You are using pip version 20.2.1; however, version 20.2.2 is available.\r\n",
      "You should consider upgrading via the '/opt/conda/bin/python3.7 -m pip install --upgrade pip' command.\u001b[0m\r\n",
      "Collecting pyhrv\r\n",
      "  Downloading pyhrv-0.4.0-py3-none-any.whl (3.2 MB)\r\n",
      "\u001b[K     |████████████████████████████████| 3.2 MB 4.1 MB/s \r\n",
      "\u001b[?25hRequirement already satisfied: scipy in /opt/conda/lib/python3.7/site-packages (from pyhrv) (1.4.1)\r\n",
      "Collecting spectrum\r\n",
      "  Downloading spectrum-0.7.6.tar.gz (227 kB)\r\n",
      "\u001b[K     |████████████████████████████████| 227 kB 5.9 MB/s \r\n",
      "\u001b[?25hCollecting nolds\r\n",
      "  Downloading nolds-0.5.2-py2.py3-none-any.whl (39 kB)\r\n",
      "Requirement already satisfied: numpy in /opt/conda/lib/python3.7/site-packages (from pyhrv) (1.18.5)\r\n",
      "Requirement already satisfied: biosppy in /opt/conda/lib/python3.7/site-packages (from pyhrv) (0.6.1)\r\n",
      "Requirement already satisfied: matplotlib in /opt/conda/lib/python3.7/site-packages (from pyhrv) (3.2.1)\r\n",
      "Requirement already satisfied: future in /opt/conda/lib/python3.7/site-packages (from nolds->pyhrv) (0.18.2)\r\n",
      "Requirement already satisfied: setuptools in /opt/conda/lib/python3.7/site-packages (from nolds->pyhrv) (46.1.3.post20200325)\r\n",
      "Requirement already satisfied: bidict in /opt/conda/lib/python3.7/site-packages (from biosppy->pyhrv) (0.21.0)\r\n",
      "Requirement already satisfied: six in /opt/conda/lib/python3.7/site-packages (from biosppy->pyhrv) (1.14.0)\r\n",
      "Requirement already satisfied: h5py in /opt/conda/lib/python3.7/site-packages (from biosppy->pyhrv) (2.10.0)\r\n",
      "Requirement already satisfied: scikit-learn in /opt/conda/lib/python3.7/site-packages (from biosppy->pyhrv) (0.23.2)\r\n",
      "Requirement already satisfied: shortuuid in /opt/conda/lib/python3.7/site-packages (from biosppy->pyhrv) (1.0.1)\r\n",
      "Requirement already satisfied: pyparsing!=2.0.4,!=2.1.2,!=2.1.6,>=2.0.1 in /opt/conda/lib/python3.7/site-packages (from matplotlib->pyhrv) (2.4.7)\r\n",
      "Requirement already satisfied: kiwisolver>=1.0.1 in /opt/conda/lib/python3.7/site-packages (from matplotlib->pyhrv) (1.2.0)\r\n",
      "Requirement already satisfied: python-dateutil>=2.1 in /opt/conda/lib/python3.7/site-packages (from matplotlib->pyhrv) (2.8.1)\r\n",
      "Requirement already satisfied: cycler>=0.10 in /opt/conda/lib/python3.7/site-packages (from matplotlib->pyhrv) (0.10.0)\r\n",
      "Requirement already satisfied: joblib>=0.11 in /opt/conda/lib/python3.7/site-packages (from scikit-learn->biosppy->pyhrv) (0.14.1)\r\n",
      "Requirement already satisfied: threadpoolctl>=2.0.0 in /opt/conda/lib/python3.7/site-packages (from scikit-learn->biosppy->pyhrv) (2.1.0)\r\n",
      "Building wheels for collected packages: spectrum\r\n",
      "  Building wheel for spectrum (setup.py) ... \u001b[?25l-\b \b\\\b \b|\b \bdone\r\n",
      "\u001b[?25h  Created wheel for spectrum: filename=spectrum-0.7.6-cp37-cp37m-linux_x86_64.whl size=235356 sha256=0ad59d524872948123fc0ac44655dbb9a0bfa4f746fc7642442cc43800a90a15\r\n",
      "  Stored in directory: /root/.cache/pip/wheels/ef/78/be/cbfb44e11a46428212320583883c35e907785f660dc35ee1a6\r\n",
      "Successfully built spectrum\r\n",
      "Installing collected packages: spectrum, nolds, pyhrv\r\n",
      "Successfully installed nolds-0.5.2 pyhrv-0.4.0 spectrum-0.7.6\r\n",
      "\u001b[33mWARNING: You are using pip version 20.2.1; however, version 20.2.2 is available.\r\n",
      "You should consider upgrading via the '/opt/conda/bin/python3.7 -m pip install --upgrade pip' command.\u001b[0m\r\n",
      "Requirement already satisfied: PyWavelets in /opt/conda/lib/python3.7/site-packages (1.1.1)\r\n",
      "Requirement already satisfied: numpy>=1.13.3 in /opt/conda/lib/python3.7/site-packages (from PyWavelets) (1.18.5)\r\n",
      "\u001b[33mWARNING: You are using pip version 20.2.1; however, version 20.2.2 is available.\r\n",
      "You should consider upgrading via the '/opt/conda/bin/python3.7 -m pip install --upgrade pip' command.\u001b[0m\r\n"
     ]
    }
   ],
   "source": [
    "# This Python 3 environment comes with many helpful analytics libraries installed\n",
    "# It is defined by the kaggle/python Docker image: https://github.com/kaggle/docker-python\n",
    "# For example, here's several helpful packages to load\n",
    "\n",
    "import numpy as np # linear algebra\n",
    "import pandas as pd # data processing, CSV file I/O (e.g. pd.read_csv)\n",
    "import datetime\n",
    "\n",
    "from tqdm.notebook import tqdm\n",
    "\n",
    "# Input data files are available in the read-only \"../input/\" directory\n",
    "# For example, running this (by clicking run or pressing Shift+Enter) will list all files under the input directory\n",
    "\n",
    "import os\n",
    "for dirname, _, filenames in os.walk('/kaggle/input/ecg-retrieval-integrated11'):\n",
    "    for filename in filenames:\n",
    "        print(os.path.join(dirname, filename))\n",
    "# You can write up to 5GB to the current directory (/kaggle/working/) that gets preserved as output when you create a version using \"Save & Run All\" \n",
    "# You can also write temporary files to /kaggle/temp/, but they won't be saved outside of the current session\n",
    "!pip install biosppy\n",
    "!pip install pyentrp\n",
    "!pip install pyhrv\n",
    "!pip install PyWavelets\n",
    "#!pip install heartpy\n",
    "#!git clone https://github.com/physiozoo/mhrv.git"
   ]
  },
  {
   "cell_type": "code",
   "execution_count": 2,
   "metadata": {
    "_cell_guid": "79c7e3d0-c299-4dcb-8224-4455121ee9b0",
    "_uuid": "d629ff2d2480ee46fbb7e2d37f6b5fab8052498a",
    "execution": {
     "iopub.execute_input": "2020-09-05T16:18:51.403880Z",
     "iopub.status.busy": "2020-09-05T16:18:51.402578Z",
     "iopub.status.idle": "2020-09-05T16:18:51.407357Z",
     "shell.execute_reply": "2020-09-05T16:18:51.408045Z"
    },
    "papermill": {
     "duration": 0.059093,
     "end_time": "2020-09-05T16:18:51.408249",
     "exception": false,
     "start_time": "2020-09-05T16:18:51.349156",
     "status": "completed"
    },
    "tags": []
   },
   "outputs": [
    {
     "data": {
      "text/plain": [
       "'import numpy as np\\na = np.random.rand(5000)\\nb = np.random.rand(5000)\\na = (a - np.mean(a)) / (np.std(a) * len(a))\\nb = (b - np.mean(b)) / (np.std(b))\\nnp.correlate(a, b)'"
      ]
     },
     "execution_count": 2,
     "metadata": {},
     "output_type": "execute_result"
    }
   ],
   "source": [
    "\"\"\"import numpy as np\n",
    "a = np.random.rand(5000)\n",
    "b = np.random.rand(5000)\n",
    "a = (a - np.mean(a)) / (np.std(a) * len(a))\n",
    "b = (b - np.mean(b)) / (np.std(b))\n",
    "np.correlate(a, b)\"\"\""
   ]
  },
  {
   "cell_type": "code",
   "execution_count": 3,
   "metadata": {
    "execution": {
     "iopub.execute_input": "2020-09-05T16:18:51.532118Z",
     "iopub.status.busy": "2020-09-05T16:18:51.506172Z",
     "iopub.status.idle": "2020-09-05T16:18:52.824572Z",
     "shell.execute_reply": "2020-09-05T16:18:52.823812Z"
    },
    "papermill": {
     "duration": 1.372435,
     "end_time": "2020-09-05T16:18:52.824725",
     "exception": false,
     "start_time": "2020-09-05T16:18:51.452290",
     "status": "completed"
    },
    "tags": []
   },
   "outputs": [],
   "source": [
    "import biosppy\n",
    "import base64\n",
    "import pyentrp.entropy as ent\n",
    "import pyhrv\n",
    "import pyhrv.time_domain as td\n",
    "import pyhrv.frequency_domain as fd\n",
    "import matplotlib.pyplot as plt\n",
    "\n",
    "from scipy.stats import skew, kurtosis\n",
    "\n",
    "import re\n",
    "\n",
    "fs = 500\n",
    "    \n",
    "def getLeadFeatures(lead_data):\n",
    "        features = []\n",
    "        signal = biosppy.ecg.ecg(lead_data, show=False, sampling_rate=fs)\n",
    "        rpeaks = signal['rpeaks']\n",
    "        if rpeaks.shape[0] != 0:\n",
    "            \n",
    "            rr_intervals = np.diff(rpeaks)\n",
    "            drr = np.diff(rr_intervals)\n",
    "            r_density = (rr_intervals.shape[0] + 1) / lead_data.shape[0] * fs\n",
    "            pnn50 = drr[drr >= fs * 0.05].shape[0] / rr_intervals.shape[0]\n",
    "            rmssd = np.sqrt(np.mean(drr * drr))\n",
    "            sdnn = td.sdnn(rr_intervals)['sdnn']\n",
    "            rmssd = td.rmssd(rr_intervals)['rmssd']\n",
    "            #fft = fd.welch_psd(rr_intervals, show=False)['fft_ratio']\n",
    "            #fft = 1\n",
    "            \n",
    "            samp_entrp = ent.sample_entropy(rr_intervals, 2, 0.2 * np.std(rr_intervals))\n",
    "            samp_entrp[np.isnan(samp_entrp)] = -2\n",
    "            samp_entrp[np.isinf(samp_entrp)] = -1\n",
    "            \n",
    "            features.extend([rr_intervals.min(),\n",
    "                             rr_intervals.max(),\n",
    "                             rr_intervals.mean(),\n",
    "                             rr_intervals.std(),\n",
    "                             skew(rr_intervals),\n",
    "                             kurtosis(rr_intervals),\n",
    "                             r_density,\n",
    "                             samp_entrp[0], samp_entrp[1],\n",
    "                             sdnn,\n",
    "                             rmssd,\n",
    "                             pnn50,\n",
    "                             skew(lead_data),\n",
    "                             kurtosis(lead_data)\n",
    "                            ])\n",
    "        else:\n",
    "            features.extend([np.nan] * 16)\n",
    "        \n",
    "        heart_rate = signal['heart_rate']\n",
    "        if heart_rate.shape[0] != 0:\n",
    "            features.extend([heart_rate.min(),\n",
    "                                 heart_rate.max(),\n",
    "                                 heart_rate.mean(),\n",
    "                                 heart_rate.std(),\n",
    "                                 skew(heart_rate),\n",
    "                                 kurtosis(heart_rate)])\n",
    "        else:\n",
    "            features.extend([np.nan] * 6)\n",
    "        return features\n",
    "    \n",
    "def getFeatures(index_data, index_feature):\n",
    "    \n",
    "        age_s = index_feature.find('Age')\n",
    "        if age_s == -1: age_s = index_feature.find('age')\n",
    "        if age_s == -1: \n",
    "            age = 0\n",
    "        else:\n",
    "            age_s = re.search(r\"\\d+\", index_feature[age_s:]).start() + age_s\n",
    "            age_e = re.search(r\"\\D+\", index_feature[age_s:]).start() + age_s\n",
    "            age = int(index_feature[age_s:age_e])\n",
    "\n",
    "        sex = index_feature.find('Female')\n",
    "        if sex == -1: sex = index_feature.find('female')\n",
    "        if sex == -1: sex = index_feature.find('Sex: F')    \n",
    "        if sex != -1: sex = 0\n",
    "        else: sex = 1\n",
    "            \n",
    "        #print(sex)\n",
    "        #print(age)\n",
    "\n",
    "        index_data = base64.b64decode(index_data)\n",
    "        index_data = np.frombuffer(index_data, dtype=np.float16).reshape(-1,12).transpose().astype(np.float32)\n",
    "        features = [sex,age]\n",
    "        \n",
    "        for lead_data in index_data:\n",
    "            features.extend(getLeadFeatures(lead_data))\n",
    "            \n",
    "        return features"
   ]
  },
  {
   "cell_type": "code",
   "execution_count": 4,
   "metadata": {
    "execution": {
     "iopub.execute_input": "2020-09-05T16:18:52.928566Z",
     "iopub.status.busy": "2020-09-05T16:18:52.927778Z",
     "iopub.status.idle": "2020-09-05T18:21:13.310187Z",
     "shell.execute_reply": "2020-09-05T18:21:13.311161Z"
    },
    "papermill": {
     "duration": 7340.439946,
     "end_time": "2020-09-05T18:21:13.311455",
     "exception": false,
     "start_time": "2020-09-05T16:18:52.871509",
     "status": "completed"
    },
    "tags": []
   },
   "outputs": [
    {
     "data": {
      "application/vnd.jupyter.widget-view+json": {
       "model_id": "1c41de344a7948ab92dac255031380a5",
       "version_major": 2,
       "version_minor": 0
      },
      "text/plain": [
       "HBox(children=(FloatProgress(value=0.0, max=30007.0), HTML(value='')))"
      ]
     },
     "metadata": {},
     "output_type": "display_data"
    },
    {
     "name": "stdout",
     "output_type": "stream",
     "text": [
      "\n"
     ]
    }
   ],
   "source": [
    "for dirname, _, filenames in os.walk('/kaggle/input/prepare-integrated-data1'):\n",
    "    for filename in tqdm(filenames):\n",
    "        with open(os.path.join(dirname, filename)) as f:\n",
    "            try:\n",
    "                file_name, index_data, index_label, index_feature = f.readline().strip().split('\\t')  \n",
    "                try:\n",
    "                    features = np.array(getFeatures(index_data, index_feature))\n",
    "                except:\n",
    "                    features = np.array([0] * 242)\n",
    "                features = base64.b64encode(features.astype(np.float16)).decode(\"utf-8\")\n",
    "                out_f = open(filename,'w+')\n",
    "                out_f.write('\\t'.join([file_name, index_data, index_label, index_feature, features]))\n",
    "            except:\n",
    "                pass\n",
    "            #print(\"index_feature \",index_feature)\n",
    "            #print(index_feature)"
   ]
  },
  {
   "cell_type": "code",
   "execution_count": 5,
   "metadata": {
    "execution": {
     "iopub.execute_input": "2020-09-05T18:21:13.413561Z",
     "iopub.status.busy": "2020-09-05T18:21:13.412422Z",
     "iopub.status.idle": "2020-09-05T18:21:13.417554Z",
     "shell.execute_reply": "2020-09-05T18:21:13.416827Z"
    },
    "papermill": {
     "duration": 0.058971,
     "end_time": "2020-09-05T18:21:13.417714",
     "exception": false,
     "start_time": "2020-09-05T18:21:13.358743",
     "status": "completed"
    },
    "tags": []
   },
   "outputs": [
    {
     "data": {
      "text/plain": [
       "'for dirname, _, filenames in os.walk(\\'/kaggle/input/prepare-integrated-data1\\'):\\n    for filename in tqdm(filenames):\\n        with open(os.path.join(dirname, filename)) as f:\\n            if filename.find(\"ecg_data\") == -1: print(filename)'"
      ]
     },
     "execution_count": 5,
     "metadata": {},
     "output_type": "execute_result"
    }
   ],
   "source": [
    "\"\"\"for dirname, _, filenames in os.walk('/kaggle/input/prepare-integrated-data1'):\n",
    "    for filename in tqdm(filenames):\n",
    "        with open(os.path.join(dirname, filename)) as f:\n",
    "            if filename.find(\"ecg_data\") == -1: print(filename)\"\"\""
   ]
  },
  {
   "cell_type": "code",
   "execution_count": 6,
   "metadata": {
    "execution": {
     "iopub.execute_input": "2020-09-05T18:21:13.531767Z",
     "iopub.status.busy": "2020-09-05T18:21:13.522770Z",
     "iopub.status.idle": "2020-09-05T18:21:15.843426Z",
     "shell.execute_reply": "2020-09-05T18:21:15.842573Z"
    },
    "papermill": {
     "duration": 2.378467,
     "end_time": "2020-09-05T18:21:15.843561",
     "exception": false,
     "start_time": "2020-09-05T18:21:13.465094",
     "status": "completed"
    },
    "tags": []
   },
   "outputs": [],
   "source": [
    "!cp /kaggle/input/prepare-integrated-data1/ori_round1_label_to_123_lalel ori_round1_label_to_123_lalel\n",
    "!cp /kaggle/input/prepare-integrated-data1/ori_edar_label_to_123_lalel ori_edar_label_to_123_lalel\n",
    "!cp /kaggle/input/prepare-integrated-data1/ori_round2_label_to_123_lalel ori_round2_label_to_123_lalel"
   ]
  }
 ],
 "metadata": {
  "kernelspec": {
   "display_name": "Python 3",
   "language": "python",
   "name": "python3"
  },
  "language_info": {
   "codemirror_mode": {
    "name": "ipython",
    "version": 3
   },
   "file_extension": ".py",
   "mimetype": "text/x-python",
   "name": "python",
   "nbconvert_exporter": "python",
   "pygments_lexer": "ipython3",
   "version": "3.7.6"
  },
  "papermill": {
   "duration": 7400.90464,
   "end_time": "2020-09-05T18:21:16.010395",
   "environment_variables": {},
   "exception": null,
   "input_path": "__notebook__.ipynb",
   "output_path": "__notebook__.ipynb",
   "parameters": {},
   "start_time": "2020-09-05T16:17:55.105755",
   "version": "2.1.0"
  },
  "widgets": {
   "application/vnd.jupyter.widget-state+json": {
    "state": {
     "1c41de344a7948ab92dac255031380a5": {
      "model_module": "@jupyter-widgets/controls",
      "model_module_version": "1.5.0",
      "model_name": "HBoxModel",
      "state": {
       "_dom_classes": [],
       "_model_module": "@jupyter-widgets/controls",
       "_model_module_version": "1.5.0",
       "_model_name": "HBoxModel",
       "_view_count": null,
       "_view_module": "@jupyter-widgets/controls",
       "_view_module_version": "1.5.0",
       "_view_name": "HBoxView",
       "box_style": "",
       "children": [
        "IPY_MODEL_48b6e220d9fe4c3b91fb985a826410a8",
        "IPY_MODEL_ec26cf0421914f34849d1e82ecc61712"
       ],
       "layout": "IPY_MODEL_eb35e816ef5546cebc6cafb0a54c1107"
      }
     },
     "26991e6bebd347dc8ec6fc8b24669616": {
      "model_module": "@jupyter-widgets/base",
      "model_module_version": "1.2.0",
      "model_name": "LayoutModel",
      "state": {
       "_model_module": "@jupyter-widgets/base",
       "_model_module_version": "1.2.0",
       "_model_name": "LayoutModel",
       "_view_count": null,
       "_view_module": "@jupyter-widgets/base",
       "_view_module_version": "1.2.0",
       "_view_name": "LayoutView",
       "align_content": null,
       "align_items": null,
       "align_self": null,
       "border": null,
       "bottom": null,
       "display": null,
       "flex": null,
       "flex_flow": null,
       "grid_area": null,
       "grid_auto_columns": null,
       "grid_auto_flow": null,
       "grid_auto_rows": null,
       "grid_column": null,
       "grid_gap": null,
       "grid_row": null,
       "grid_template_areas": null,
       "grid_template_columns": null,
       "grid_template_rows": null,
       "height": null,
       "justify_content": null,
       "justify_items": null,
       "left": null,
       "margin": null,
       "max_height": null,
       "max_width": null,
       "min_height": null,
       "min_width": null,
       "object_fit": null,
       "object_position": null,
       "order": null,
       "overflow": null,
       "overflow_x": null,
       "overflow_y": null,
       "padding": null,
       "right": null,
       "top": null,
       "visibility": null,
       "width": null
      }
     },
     "33392c74e2e84285a050057c809665dc": {
      "model_module": "@jupyter-widgets/controls",
      "model_module_version": "1.5.0",
      "model_name": "DescriptionStyleModel",
      "state": {
       "_model_module": "@jupyter-widgets/controls",
       "_model_module_version": "1.5.0",
       "_model_name": "DescriptionStyleModel",
       "_view_count": null,
       "_view_module": "@jupyter-widgets/base",
       "_view_module_version": "1.2.0",
       "_view_name": "StyleView",
       "description_width": ""
      }
     },
     "48b6e220d9fe4c3b91fb985a826410a8": {
      "model_module": "@jupyter-widgets/controls",
      "model_module_version": "1.5.0",
      "model_name": "FloatProgressModel",
      "state": {
       "_dom_classes": [],
       "_model_module": "@jupyter-widgets/controls",
       "_model_module_version": "1.5.0",
       "_model_name": "FloatProgressModel",
       "_view_count": null,
       "_view_module": "@jupyter-widgets/controls",
       "_view_module_version": "1.5.0",
       "_view_name": "ProgressView",
       "bar_style": "success",
       "description": "100%",
       "description_tooltip": null,
       "layout": "IPY_MODEL_d6069e6a517c4e859a26171f03e75b75",
       "max": 30007.0,
       "min": 0.0,
       "orientation": "horizontal",
       "style": "IPY_MODEL_8d3fa04fd52a4063b69a7d0bbc215adc",
       "value": 30007.0
      }
     },
     "8d3fa04fd52a4063b69a7d0bbc215adc": {
      "model_module": "@jupyter-widgets/controls",
      "model_module_version": "1.5.0",
      "model_name": "ProgressStyleModel",
      "state": {
       "_model_module": "@jupyter-widgets/controls",
       "_model_module_version": "1.5.0",
       "_model_name": "ProgressStyleModel",
       "_view_count": null,
       "_view_module": "@jupyter-widgets/base",
       "_view_module_version": "1.2.0",
       "_view_name": "StyleView",
       "bar_color": null,
       "description_width": "initial"
      }
     },
     "d6069e6a517c4e859a26171f03e75b75": {
      "model_module": "@jupyter-widgets/base",
      "model_module_version": "1.2.0",
      "model_name": "LayoutModel",
      "state": {
       "_model_module": "@jupyter-widgets/base",
       "_model_module_version": "1.2.0",
       "_model_name": "LayoutModel",
       "_view_count": null,
       "_view_module": "@jupyter-widgets/base",
       "_view_module_version": "1.2.0",
       "_view_name": "LayoutView",
       "align_content": null,
       "align_items": null,
       "align_self": null,
       "border": null,
       "bottom": null,
       "display": null,
       "flex": null,
       "flex_flow": null,
       "grid_area": null,
       "grid_auto_columns": null,
       "grid_auto_flow": null,
       "grid_auto_rows": null,
       "grid_column": null,
       "grid_gap": null,
       "grid_row": null,
       "grid_template_areas": null,
       "grid_template_columns": null,
       "grid_template_rows": null,
       "height": null,
       "justify_content": null,
       "justify_items": null,
       "left": null,
       "margin": null,
       "max_height": null,
       "max_width": null,
       "min_height": null,
       "min_width": null,
       "object_fit": null,
       "object_position": null,
       "order": null,
       "overflow": null,
       "overflow_x": null,
       "overflow_y": null,
       "padding": null,
       "right": null,
       "top": null,
       "visibility": null,
       "width": null
      }
     },
     "eb35e816ef5546cebc6cafb0a54c1107": {
      "model_module": "@jupyter-widgets/base",
      "model_module_version": "1.2.0",
      "model_name": "LayoutModel",
      "state": {
       "_model_module": "@jupyter-widgets/base",
       "_model_module_version": "1.2.0",
       "_model_name": "LayoutModel",
       "_view_count": null,
       "_view_module": "@jupyter-widgets/base",
       "_view_module_version": "1.2.0",
       "_view_name": "LayoutView",
       "align_content": null,
       "align_items": null,
       "align_self": null,
       "border": null,
       "bottom": null,
       "display": null,
       "flex": null,
       "flex_flow": null,
       "grid_area": null,
       "grid_auto_columns": null,
       "grid_auto_flow": null,
       "grid_auto_rows": null,
       "grid_column": null,
       "grid_gap": null,
       "grid_row": null,
       "grid_template_areas": null,
       "grid_template_columns": null,
       "grid_template_rows": null,
       "height": null,
       "justify_content": null,
       "justify_items": null,
       "left": null,
       "margin": null,
       "max_height": null,
       "max_width": null,
       "min_height": null,
       "min_width": null,
       "object_fit": null,
       "object_position": null,
       "order": null,
       "overflow": null,
       "overflow_x": null,
       "overflow_y": null,
       "padding": null,
       "right": null,
       "top": null,
       "visibility": null,
       "width": null
      }
     },
     "ec26cf0421914f34849d1e82ecc61712": {
      "model_module": "@jupyter-widgets/controls",
      "model_module_version": "1.5.0",
      "model_name": "HTMLModel",
      "state": {
       "_dom_classes": [],
       "_model_module": "@jupyter-widgets/controls",
       "_model_module_version": "1.5.0",
       "_model_name": "HTMLModel",
       "_view_count": null,
       "_view_module": "@jupyter-widgets/controls",
       "_view_module_version": "1.5.0",
       "_view_name": "HTMLView",
       "description": "",
       "description_tooltip": null,
       "layout": "IPY_MODEL_26991e6bebd347dc8ec6fc8b24669616",
       "placeholder": "​",
       "style": "IPY_MODEL_33392c74e2e84285a050057c809665dc",
       "value": " 30007/30007 [2:01:55&lt;00:00,  4.10it/s]"
      }
     }
    },
    "version_major": 2,
    "version_minor": 0
   }
  }
 },
 "nbformat": 4,
 "nbformat_minor": 4
}
