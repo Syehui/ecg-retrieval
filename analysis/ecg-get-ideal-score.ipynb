{
 "cells": [
  {
   "cell_type": "code",
   "execution_count": 1,
   "metadata": {
    "_cell_guid": "b1076dfc-b9ad-4769-8c92-a6c4dae69d19",
    "_uuid": "8f2839f25d086af736a60e9eeb907d3b93b6e0e5",
    "execution": {
     "iopub.execute_input": "2020-09-20T14:59:58.148142Z",
     "iopub.status.busy": "2020-09-20T14:59:58.147356Z",
     "iopub.status.idle": "2020-09-20T14:59:58.153137Z",
     "shell.execute_reply": "2020-09-20T14:59:58.152432Z"
    },
    "papermill": {
     "duration": 0.033241,
     "end_time": "2020-09-20T14:59:58.153285",
     "exception": false,
     "start_time": "2020-09-20T14:59:58.120044",
     "status": "completed"
    },
    "tags": []
   },
   "outputs": [],
   "source": [
    "# This Python 3 environment comes with many helpful analytics libraries installed\n",
    "# It is defined by the kaggle/python Docker image: https://github.com/kaggle/docker-python\n",
    "# For example, here's several helpful packages to load\n",
    "\n",
    "import numpy as np # linear algebra\n",
    "import pandas as pd # data processing, CSV file I/O (e.g. pd.read_csv)\n",
    "import csv\n",
    "import sys\n",
    "from tqdm.notebook import tqdm\n",
    "import math\n",
    "from IPython.display import FileLink\n",
    "import gzip\n",
    "import os\n",
    "import random\n",
    "\n",
    "\n",
    "# Input data files are available in the read-only \"../input/\" directory\n",
    "# For example, running this (by clicking run or pressing Shift+Enter) will list all files under the input directory\n",
    "\n",
    "#log_f = open('running_log','w+')\n",
    "\n",
    "\n",
    "\"\"\"for dirname, _, filenames in os.walk('/kaggle/input'):\n",
    "    for filename in filenames:\n",
    "        print(os.path.join(dirname, filename))\n",
    "        break\"\"\"\n",
    "\n",
    "\n",
    "# You can write up to 5GB to the current directory (/kaggle/working/) that gets preserved as output when you create a version using \"Save & Run All\" \n",
    "# You can also write temporary files to /kaggle/temp/, but they won't be saved outside of the current session\n",
    "\n",
    "for dirname, _, filenames in os.walk('/kaggle/input/ecg-retrieval-static-integrated'):\n",
    "    for filename in filenames:\n",
    "        print(os.path.join(dirname, filename))\n",
    "        \n",
    "try:\n",
    "    for line in open('/kaggle/input/ecg-retrieval-static-integrated/running_log'):\n",
    "        print(line.strip())\n",
    "except:\n",
    "    pass\n",
    "\n",
    "count_label_dict = {82: 51162, 81: 14897, 57: 14733, 83: 11989, 46: 8344, 67: 6867, 90: 6573, 8: 6269, 61: 5412, 49: 5202, 76: 4484, 78: 4030, 80: 3649, 2: 3389, 84: 2996, 0: 2847, 75: 2826, 66: 2724, 58: 2597, 24: 2249, 51: 2104, 33: 1972, 42: 1947, 114: 1932, 86: 1886, 68: 1822, 110: 1718, 69: 1665, 62: 1409, 115: 1380, 91: 1361, 71: 1354, 17: 1324, 44: 1290, 47: 1255, 85: 1161, 60: 1105, 41: 1043, 87: 980, 94: 921, 10: 802, 88: 738, 19: 682, 35: 668, 116: 644, 118: 644, 98: 558, 121: 552, 7: 428, 100: 413, 106: 410, 63: 392, 95: 367, 70: 353, 6: 324, 103: 315, 104: 310, 64: 300, 15: 278, 117: 276, 55: 276, 122: 269, 77: 260, 107: 251, 14: 247, 32: 220, 48: 202, 27: 199, 13: 189, 119: 184, 74: 177, 21: 161, 34: 156, 52: 110, 26: 106, 96: 103, 113: 99, 16: 94, 120: 92, 79: 83, 109: 81, 108: 74, 43: 72, 11: 69, 1: 68, 23: 67, 9: 60, 12: 52, 45: 47, 72: 46, 112: 46, 101: 44, 38: 32, 102: 28, 93: 23, 4: 19, 111: 14, 59: 14, 73: 14, 29: 13, 89: 12, 65: 10, 105: 7, 40: 6, 97: 5, 31: 5, 39: 4, 5: 2, 99: 2, 25: 2, 50: 1, 36: 1, 20: 1}"
   ]
  },
  {
   "cell_type": "code",
   "execution_count": 2,
   "metadata": {
    "execution": {
     "iopub.execute_input": "2020-09-20T14:59:58.172511Z",
     "iopub.status.busy": "2020-09-20T14:59:58.171541Z",
     "iopub.status.idle": "2020-09-20T14:59:58.174807Z",
     "shell.execute_reply": "2020-09-20T14:59:58.175414Z"
    },
    "papermill": {
     "duration": 0.014843,
     "end_time": "2020-09-20T14:59:58.175546",
     "exception": false,
     "start_time": "2020-09-20T14:59:58.160703",
     "status": "completed"
    },
    "tags": []
   },
   "outputs": [
    {
     "ename": "SyntaxError",
     "evalue": "invalid syntax (<ipython-input-2-f90ac1a6cac2>, line 1)",
     "output_type": "error",
     "traceback": [
      "\u001b[0;36m  File \u001b[0;32m\"<ipython-input-2-f90ac1a6cac2>\"\u001b[0;36m, line \u001b[0;32m1\u001b[0m\n\u001b[0;31m    sum[1 for line in open('/kaggle/input/ecg-analysis/ideal_dict')]\u001b[0m\n\u001b[0m            ^\u001b[0m\n\u001b[0;31mSyntaxError\u001b[0m\u001b[0;31m:\u001b[0m invalid syntax\n"
     ]
    }
   ],
   "source": [
    "sum[1 for line in open('/kaggle/input/ecg-analysis/ideal_dict')]"
   ]
  },
  {
   "cell_type": "code",
   "execution_count": 3,
   "metadata": {
    "execution": {
     "iopub.execute_input": "2020-09-20T14:59:58.197054Z",
     "iopub.status.busy": "2020-09-20T14:59:58.196168Z",
     "iopub.status.idle": "2020-09-20T14:59:58.200288Z",
     "shell.execute_reply": "2020-09-20T14:59:58.199659Z"
    },
    "papermill": {
     "duration": 0.016902,
     "end_time": "2020-09-20T14:59:58.200397",
     "exception": false,
     "start_time": "2020-09-20T14:59:58.183495",
     "status": "completed"
    },
    "tags": []
   },
   "outputs": [
    {
     "data": {
      "text/plain": [
       "\"def check_line(f_name):\\n        \\n        f1 = '../input/prepare-integrated-data1/' + f_name\\n        f2 = '../input/static-integrated-data1/' + f_name\\n        line1 = open(f1).read()\\n        line2 = open(f2).read()\\n        try:\\n            file_name1, index_data1, index_label1, index_feature1 = line1.strip().split('\\t')\\n            file_name2, index_data2, index_label2, index_feature2, features2 = line2.strip().split('\\t')\\n        except: \\n            return\\n        \\n        assert file_name1 == file_name2\\n        assert index_data1 == index_data2\\n        assert index_label1 == index_label2\\n        assert index_feature1 == index_feature2\\n        \\nfor filename in tqdm(os.listdir('/kaggle/input/prepare-integrated-data1')):\\n    check_line(filename)\""
      ]
     },
     "execution_count": 3,
     "metadata": {},
     "output_type": "execute_result"
    }
   ],
   "source": [
    "\"\"\"def check_line(f_name):\n",
    "        \n",
    "        f1 = '../input/prepare-integrated-data1/' + f_name\n",
    "        f2 = '../input/static-integrated-data1/' + f_name\n",
    "        line1 = open(f1).read()\n",
    "        line2 = open(f2).read()\n",
    "        try:\n",
    "            file_name1, index_data1, index_label1, index_feature1 = line1.strip().split('\\t')\n",
    "            file_name2, index_data2, index_label2, index_feature2, features2 = line2.strip().split('\\t')\n",
    "        except: \n",
    "            return\n",
    "        \n",
    "        assert file_name1 == file_name2\n",
    "        assert index_data1 == index_data2\n",
    "        assert index_label1 == index_label2\n",
    "        assert index_feature1 == index_feature2\n",
    "        \n",
    "for filename in tqdm(os.listdir('/kaggle/input/prepare-integrated-data1')):\n",
    "    check_line(filename)\"\"\""
   ]
  },
  {
   "cell_type": "code",
   "execution_count": 4,
   "metadata": {
    "execution": {
     "iopub.execute_input": "2020-09-20T14:59:58.224653Z",
     "iopub.status.busy": "2020-09-20T14:59:58.223259Z",
     "iopub.status.idle": "2020-09-20T14:59:58.238212Z",
     "shell.execute_reply": "2020-09-20T14:59:58.237560Z"
    },
    "papermill": {
     "duration": 0.030377,
     "end_time": "2020-09-20T14:59:58.238332",
     "exception": false,
     "start_time": "2020-09-20T14:59:58.207955",
     "status": "completed"
    },
    "tags": []
   },
   "outputs": [],
   "source": [
    "\"\"\"data schema:\n",
    "key, base64_data, base64_label, features\n",
    "\"\"\"\n",
    "import multiprocessing\n",
    "\n",
    "path = {}\n",
    "\n",
    "download_and_use_pretrained_model = False\n",
    "\n",
    "is_load_from_pretrain = False\n",
    "path['pretrain_model_path'] = '/kaggle/input/kernel8dd5b9b242/step7224'\n",
    "\n",
    "shuffle = True\n",
    "is_gzip_file = False\n",
    "valid_ratio = 0.05  #5948 samples\n",
    "test_ratio = 0.05   #5948 samples\n",
    "train_ratio = 1 - valid_ratio - test_ratio   #107064 samples\n",
    "worker_num = multiprocessing.cpu_count()\n",
    "#worker_num = 8\n",
    "\n",
    "topk = 5\n",
    "feature_index = 0\n",
    "label_index = 1\n",
    "\n",
    "epochs = 40\n",
    "batch_size = 128\n",
    "learning_rate = 1e-3\n",
    "is_warmup_decay = 1\n",
    "warmup_ratio = 0.1\n",
    "threshold = 0.5\n",
    "sigmoid_input = False\n",
    "\n",
    "use_selected_label = False\n",
    "select_label = [80,81,82,8,83]\n",
    "\n",
    "path['use_resnet'] = 'resnet34'\n",
    "\n",
    "use_l2_penalty = False\n",
    "adam_epsilon = 1e-8\n",
    "\n",
    "use_float32 = False\n",
    "\n",
    "leads = 12\n",
    "num_samples = 118960\n",
    "num_class = 123\n",
    "    \n",
    "if use_selected_label: \n",
    "    num_class = len(select_label)\n",
    "\n",
    "steps_per_epochs = int(num_samples/batch_size)\n",
    "num_steps = steps_per_epochs * epochs\n",
    "save_step = int(num_steps/10)\n",
    "decay_step = [int(num_steps*0.6), int(num_steps*0.8)]\n",
    "warmup_step = max(2*steps_per_epochs, int(num_steps/10))\n",
    "#evaluate_step = int(num_steps/10)\n",
    "evaluate_step = steps_per_epochs"
   ]
  },
  {
   "cell_type": "code",
   "execution_count": 5,
   "metadata": {
    "execution": {
     "iopub.execute_input": "2020-09-20T14:59:58.262672Z",
     "iopub.status.busy": "2020-09-20T14:59:58.262025Z",
     "iopub.status.idle": "2020-09-20T15:00:00.597195Z",
     "shell.execute_reply": "2020-09-20T15:00:00.596537Z"
    },
    "papermill": {
     "duration": 2.351089,
     "end_time": "2020-09-20T15:00:00.597312",
     "exception": false,
     "start_time": "2020-09-20T14:59:58.246223",
     "status": "completed"
    },
    "tags": []
   },
   "outputs": [],
   "source": [
    "#load train file list, valid file list and test file list\n",
    "\n",
    "path = {}\n",
    "path['input_data'] = ['/kaggle/input/static-integrated-data1',\n",
    "                      '/kaggle/input/static-integrated-data2',\n",
    "                      '/kaggle/input/static-integrated-data3',\n",
    "                      '/kaggle/input/static-integrated-data4']\n",
    "\n",
    "def get_train_val_test_list(paths):\n",
    "    files = []\n",
    "    for dir_add in paths:\n",
    "        f_adds = os.listdir(dir_add)\n",
    "        f_adds = sorted(f_adds)\n",
    "        for i,f_add in enumerate(f_adds.copy()):\n",
    "            if '.part' not in f_add:\n",
    "                f_adds.remove(f_add)\n",
    "            else:\n",
    "                f_add = dir_add + '/' + f_add\n",
    "                files.append(f_add)\n",
    "    num_samples = len(files)\n",
    "    num_valids = int(valid_ratio * num_samples)\n",
    "    num_tests = int(test_ratio * num_samples)\n",
    "    num_trains = num_samples - num_valids - num_tests\n",
    "    #return train_list, valid_list, test_list\n",
    "    return files[:num_trains], files[num_trains:num_trains+num_valids], files[num_trains+num_valids:]\n",
    "    \n",
    "path['train_list'], path['valid_list'], path['test_list'] = get_train_val_test_list(path['input_data'])"
   ]
  },
  {
   "cell_type": "code",
   "execution_count": 6,
   "metadata": {
    "execution": {
     "iopub.execute_input": "2020-09-20T15:00:00.618577Z",
     "iopub.status.busy": "2020-09-20T15:00:00.617876Z",
     "iopub.status.idle": "2020-09-20T15:00:00.621370Z",
     "shell.execute_reply": "2020-09-20T15:00:00.620882Z"
    },
    "papermill": {
     "duration": 0.01614,
     "end_time": "2020-09-20T15:00:00.621492",
     "exception": false,
     "start_time": "2020-09-20T15:00:00.605352",
     "status": "completed"
    },
    "tags": []
   },
   "outputs": [
    {
     "name": "stdout",
     "output_type": "stream",
     "text": [
      "107064\n",
      "5948\n",
      "5948\n"
     ]
    }
   ],
   "source": [
    "print(len(path['train_list']))\n",
    "print(len(path['valid_list']))\n",
    "print(len(path['test_list']))"
   ]
  },
  {
   "cell_type": "code",
   "execution_count": 7,
   "metadata": {
    "execution": {
     "iopub.execute_input": "2020-09-20T15:00:00.650980Z",
     "iopub.status.busy": "2020-09-20T15:00:00.650190Z",
     "iopub.status.idle": "2020-09-20T15:00:00.652480Z",
     "shell.execute_reply": "2020-09-20T15:00:00.652949Z"
    },
    "papermill": {
     "duration": 0.023543,
     "end_time": "2020-09-20T15:00:00.653112",
     "exception": false,
     "start_time": "2020-09-20T15:00:00.629569",
     "status": "completed"
    },
    "tags": []
   },
   "outputs": [],
   "source": [
    "import base64\n",
    "\n",
    "def parse_line(f_add):\n",
    "    \n",
    "    with open(f_add, 'r') as f:\n",
    "        line = f.read()\n",
    "        try:\n",
    "            index_name, index_data, index_label, index_feature, features = line.strip().split('\\t')\n",
    "        except:\n",
    "            index_name, index_data, index_label, index_feature = line.strip().split('\\t')\n",
    "            features = None\n",
    "        \n",
    "        index_data = base64.b64decode(index_data)\n",
    "        index_data = np.frombuffer(index_data, dtype=np.float16).reshape(-1,12).transpose()\n",
    "        \n",
    "        index_label = base64.b64decode(index_label)\n",
    "        index_label = np.frombuffer(index_label, dtype=np.float16)\n",
    "        \n",
    "        if features != None:\n",
    "            features = base64.b64decode(features)\n",
    "            #features = np.frombuffer(features, dtype=np.float16)\n",
    "            features = np.frombuffer(features, dtype=np.float16)\n",
    "        else:\n",
    "            features = np.array([0] * feature_size)\n",
    "            \n",
    "        index_data = index_data.astype(np.float64)\n",
    "        index_label = index_label.astype(np.float64)\n",
    "        \n",
    "        features = features.astype(np.float64)\n",
    "        features[~np.isfinite(features)] = 0\n",
    "        \n",
    "        if use_selected_label:\n",
    "            index_label = np.asarray([index_label[i] for i in select_label], dtype=np.float16)\n",
    "                    \n",
    "        assert len(index_label) == num_class\n",
    "        \n",
    "        sample = {}\n",
    "        sample['file_name'] = f_add\n",
    "        sample['index_name'] = index_name\n",
    "        sample['index_data'] = index_data\n",
    "        sample['index_label'] = index_label\n",
    "        sample['index_feature'] = index_feature\n",
    "        sample['features'] = features\n",
    "        \n",
    "        return sample"
   ]
  },
  {
   "cell_type": "code",
   "execution_count": 8,
   "metadata": {
    "execution": {
     "iopub.execute_input": "2020-09-20T15:00:00.675565Z",
     "iopub.status.busy": "2020-09-20T15:00:00.674714Z",
     "iopub.status.idle": "2020-09-20T15:00:00.678834Z",
     "shell.execute_reply": "2020-09-20T15:00:00.678319Z"
    },
    "papermill": {
     "duration": 0.017421,
     "end_time": "2020-09-20T15:00:00.678979",
     "exception": false,
     "start_time": "2020-09-20T15:00:00.661558",
     "status": "completed"
    },
    "tags": []
   },
   "outputs": [
    {
     "data": {
      "text/plain": [
       "'train_datas = []\\nfor train_name in tqdm(random.sample(path[\\'train_list\\'], 30000)):\\n    train_sample = parse_line(train_name)\\n    train_datas.append(train_sample[\"index_data\"])\\n    \\ndef normCorrelation(data, sample2):\\n    corr = []\\n    for a, b in zip(data, sample2[\"index_data\"]):\\n        #corr.append(abs(np.corrcoef(a.ravel(), b.ravel())[0][1]))\\n        a = (a - np.mean(a)) / (np.std(a) * len(a))\\n        b = (b - np.mean(b)) / (np.std(b))\\n        v = np.correlate(a, b, \\'valid\\')\\n        v = 0 if np.isfinite(v) == False else v\\n        assert np.isfinite(v) == True\\n        corr.append(abs(v))\\n        break\\n    return sum(corr) / len(corr)\\n\\ndef getIdealCoe(test_file):\\n    test_sample = parse_line(test_file)\\n    test_name = test_file[test_file.rindex(\\'/\\')+1:]\\n    corrs = []\\n    #for train_file in tqdm(random.sample(path[\\'train_list\\'], 1000)):\\n    for train_data in train_datas:\\n        corr = normCorrelation(train_data, test_sample)\\n        corrs.append(corr)\\n    corrs.sort(reverse=True)\\n    out_line = [test_name,str(corrs[0])[1:-1],str(corrs[1])[1:-1],str(corrs[2])[1:-1],str(corrs[3])[1:-1],str(corrs[4])[1:-1]]\\n    return \\'\\t\\'.join(out_line) + os.linesep\\n\\n\\nwith open(\\'ideal_dict\\',\"w+\") as f:\\n    for filename in tqdm(path[\\'test_list\\'][:3000]):\\n        line = getIdealCoe(filename)\\n        f.write(line)'"
      ]
     },
     "execution_count": 8,
     "metadata": {},
     "output_type": "execute_result"
    }
   ],
   "source": [
    "\"\"\"train_datas = []\n",
    "for train_name in tqdm(random.sample(path['train_list'], 30000)):\n",
    "    train_sample = parse_line(train_name)\n",
    "    train_datas.append(train_sample[\"index_data\"])\n",
    "    \n",
    "def normCorrelation(data, sample2):\n",
    "    corr = []\n",
    "    for a, b in zip(data, sample2[\"index_data\"]):\n",
    "        #corr.append(abs(np.corrcoef(a.ravel(), b.ravel())[0][1]))\n",
    "        a = (a - np.mean(a)) / (np.std(a) * len(a))\n",
    "        b = (b - np.mean(b)) / (np.std(b))\n",
    "        v = np.correlate(a, b, 'valid')\n",
    "        v = 0 if np.isfinite(v) == False else v\n",
    "        assert np.isfinite(v) == True\n",
    "        corr.append(abs(v))\n",
    "        break\n",
    "    return sum(corr) / len(corr)\n",
    "\n",
    "def getIdealCoe(test_file):\n",
    "    test_sample = parse_line(test_file)\n",
    "    test_name = test_file[test_file.rindex('/')+1:]\n",
    "    corrs = []\n",
    "    #for train_file in tqdm(random.sample(path['train_list'], 1000)):\n",
    "    for train_data in train_datas:\n",
    "        corr = normCorrelation(train_data, test_sample)\n",
    "        corrs.append(corr)\n",
    "    corrs.sort(reverse=True)\n",
    "    out_line = [test_name,str(corrs[0])[1:-1],str(corrs[1])[1:-1],str(corrs[2])[1:-1],str(corrs[3])[1:-1],str(corrs[4])[1:-1]]\n",
    "    return '\\t'.join(out_line) + os.linesep\n",
    "\n",
    "\n",
    "with open('ideal_dict',\"w+\") as f:\n",
    "    for filename in tqdm(path['test_list'][:3000]):\n",
    "        line = getIdealCoe(filename)\n",
    "        f.write(line)\"\"\""
   ]
  },
  {
   "cell_type": "code",
   "execution_count": 9,
   "metadata": {
    "execution": {
     "iopub.execute_input": "2020-09-20T15:00:00.701822Z",
     "iopub.status.busy": "2020-09-20T15:00:00.701204Z",
     "iopub.status.idle": "2020-09-20T15:07:50.135040Z",
     "shell.execute_reply": "2020-09-20T15:07:50.135581Z"
    },
    "papermill": {
     "duration": 469.447762,
     "end_time": "2020-09-20T15:07:50.135739",
     "exception": false,
     "start_time": "2020-09-20T15:00:00.687977",
     "status": "completed"
    },
    "tags": []
   },
   "outputs": [
    {
     "data": {
      "application/vnd.jupyter.widget-view+json": {
       "model_id": "34caeec7b9924467aa68e8e91a138278",
       "version_major": 2,
       "version_minor": 0
      },
      "text/plain": [
       "HBox(children=(FloatProgress(value=0.0, max=107064.0), HTML(value='')))"
      ]
     },
     "metadata": {},
     "output_type": "display_data"
    },
    {
     "name": "stdout",
     "output_type": "stream",
     "text": [
      "\n"
     ]
    }
   ],
   "source": [
    "train_labels = []\n",
    "for train_name in tqdm(path['train_list']):\n",
    "    train_sample = parse_line(train_name)\n",
    "    train_labels.append(train_sample[\"index_label\"])"
   ]
  },
  {
   "cell_type": "code",
   "execution_count": 10,
   "metadata": {
    "execution": {
     "iopub.execute_input": "2020-09-20T15:07:50.168812Z",
     "iopub.status.busy": "2020-09-20T15:07:50.168057Z",
     "iopub.status.idle": "2020-09-20T20:04:16.868242Z",
     "shell.execute_reply": "2020-09-20T20:04:16.868837Z"
    },
    "papermill": {
     "duration": 17786.723335,
     "end_time": "2020-09-20T20:04:16.869034",
     "exception": false,
     "start_time": "2020-09-20T15:07:50.145699",
     "status": "completed"
    },
    "tags": []
   },
   "outputs": [
    {
     "data": {
      "application/vnd.jupyter.widget-view+json": {
       "model_id": "eaf8a92a8dce40b5a527efaf38d091fd",
       "version_major": 2,
       "version_minor": 0
      },
      "text/plain": [
       "HBox(children=(FloatProgress(value=0.0, max=5948.0), HTML(value='')))"
      ]
     },
     "metadata": {},
     "output_type": "display_data"
    },
    {
     "name": "stdout",
     "output_type": "stream",
     "text": [
      "\n"
     ]
    }
   ],
   "source": [
    "from sklearn.metrics import f1_score\n",
    "#计算F1score\n",
    "def calc_f1(y_true, y_pre, threshold=0.5):\n",
    "    y_true = np.asarray(y_true).astype(np.int)\n",
    "    y_pre = np.asarray(y_pre) > threshold\n",
    "    return f1_score(y_true, y_pre)\n",
    "\n",
    "def f1_loss(y_true, y_pred, beta=1) -> np.float32:\n",
    "        \n",
    "    tp = (y_true * y_pred).sum()\n",
    "    tn = ((1 - y_true) * (1 - y_pred)).sum()\n",
    "    fp = ((1 - y_true) * y_pred).sum()\n",
    "    fn = (y_true * (1 - y_pred)).sum()\n",
    "    \n",
    "    epsilon = 1e-7\n",
    "    \n",
    "    precision = tp / (tp + fp + epsilon)\n",
    "    recall = tp / (tp + fn + epsilon)\n",
    "    \n",
    "    f1 = (1 + beta**2)* (precision*recall) / (beta**2 * precision + recall + epsilon)\n",
    "\n",
    "    return round(f1, 2)\n",
    "\n",
    "def getIdealF1(test_file):\n",
    "    test_sample = parse_line(test_file)\n",
    "    test_name = test_file[test_file.rindex('/')+1:]\n",
    "    f1s = []\n",
    "    \"\"\"for train_file in tqdm(path['train_list']):\n",
    "        train_sample = parse_line(train_file)\n",
    "        f1 = calc_f1(train_sample[\"index_label\"], test_sample[\"index_label\"])\n",
    "        f1s.append(f1)\"\"\"\n",
    "    for train_label in train_labels:\n",
    "        #f1 = calc_f1(train_label, test_sample[\"index_label\"])\n",
    "        f1s.append(f1_loss(train_label, test_sample[\"index_label\"]))\n",
    "    f1s.sort(reverse=True)\n",
    "    #out_line = [test_name,str(corrs[0])[1:-1],str(corrs[1])[1:-1],str(corrs[2])[1:-1],str(corrs[3])[1:-1],str(corrs[4])[1:-1]]\n",
    "    out_line = [test_name] + [str(f1s[i]) for i in range(10)]\n",
    "    return '\\t'.join(out_line) + os.linesep\n",
    "\n",
    "with open('ideal_dict_f1_123label',\"w+\") as f:\n",
    "    for filename in tqdm(path['test_list']):\n",
    "        line = getIdealF1(filename)\n",
    "        f.write(line)"
   ]
  }
 ],
 "metadata": {
  "kernelspec": {
   "display_name": "Python 3",
   "language": "python",
   "name": "python3"
  },
  "language_info": {
   "codemirror_mode": {
    "name": "ipython",
    "version": 3
   },
   "file_extension": ".py",
   "mimetype": "text/x-python",
   "name": "python",
   "nbconvert_exporter": "python",
   "pygments_lexer": "ipython3",
   "version": "3.7.6"
  },
  "papermill": {
   "duration": 18263.14817,
   "end_time": "2020-09-20T20:04:16.992579",
   "environment_variables": {},
   "exception": null,
   "input_path": "__notebook__.ipynb",
   "output_path": "__notebook__.ipynb",
   "parameters": {},
   "start_time": "2020-09-20T14:59:53.844409",
   "version": "2.1.0"
  },
  "widgets": {
   "application/vnd.jupyter.widget-state+json": {
    "state": {
     "34caeec7b9924467aa68e8e91a138278": {
      "model_module": "@jupyter-widgets/controls",
      "model_module_version": "1.5.0",
      "model_name": "HBoxModel",
      "state": {
       "_dom_classes": [],
       "_model_module": "@jupyter-widgets/controls",
       "_model_module_version": "1.5.0",
       "_model_name": "HBoxModel",
       "_view_count": null,
       "_view_module": "@jupyter-widgets/controls",
       "_view_module_version": "1.5.0",
       "_view_name": "HBoxView",
       "box_style": "",
       "children": [
        "IPY_MODEL_7164b7d4d7ca493c9682b5993a0031e6",
        "IPY_MODEL_6110d7eac6734e6e950478b4efe1a0e1"
       ],
       "layout": "IPY_MODEL_efd4c6eb3949446fbf6922eac1ae64ca"
      }
     },
     "3d3deb62d3bb48bdb55801c459844f60": {
      "model_module": "@jupyter-widgets/controls",
      "model_module_version": "1.5.0",
      "model_name": "DescriptionStyleModel",
      "state": {
       "_model_module": "@jupyter-widgets/controls",
       "_model_module_version": "1.5.0",
       "_model_name": "DescriptionStyleModel",
       "_view_count": null,
       "_view_module": "@jupyter-widgets/base",
       "_view_module_version": "1.2.0",
       "_view_name": "StyleView",
       "description_width": ""
      }
     },
     "41421791985a4ea68d036912dd637369": {
      "model_module": "@jupyter-widgets/controls",
      "model_module_version": "1.5.0",
      "model_name": "FloatProgressModel",
      "state": {
       "_dom_classes": [],
       "_model_module": "@jupyter-widgets/controls",
       "_model_module_version": "1.5.0",
       "_model_name": "FloatProgressModel",
       "_view_count": null,
       "_view_module": "@jupyter-widgets/controls",
       "_view_module_version": "1.5.0",
       "_view_name": "ProgressView",
       "bar_style": "success",
       "description": "100%",
       "description_tooltip": null,
       "layout": "IPY_MODEL_d7a599d9e3124c45a5f0f6b239d3a34d",
       "max": 5948.0,
       "min": 0.0,
       "orientation": "horizontal",
       "style": "IPY_MODEL_e091d0ac328a4986b871e526104fde65",
       "value": 5948.0
      }
     },
     "5ada961bc3f344f99455e43c26ddf33f": {
      "model_module": "@jupyter-widgets/base",
      "model_module_version": "1.2.0",
      "model_name": "LayoutModel",
      "state": {
       "_model_module": "@jupyter-widgets/base",
       "_model_module_version": "1.2.0",
       "_model_name": "LayoutModel",
       "_view_count": null,
       "_view_module": "@jupyter-widgets/base",
       "_view_module_version": "1.2.0",
       "_view_name": "LayoutView",
       "align_content": null,
       "align_items": null,
       "align_self": null,
       "border": null,
       "bottom": null,
       "display": null,
       "flex": null,
       "flex_flow": null,
       "grid_area": null,
       "grid_auto_columns": null,
       "grid_auto_flow": null,
       "grid_auto_rows": null,
       "grid_column": null,
       "grid_gap": null,
       "grid_row": null,
       "grid_template_areas": null,
       "grid_template_columns": null,
       "grid_template_rows": null,
       "height": null,
       "justify_content": null,
       "justify_items": null,
       "left": null,
       "margin": null,
       "max_height": null,
       "max_width": null,
       "min_height": null,
       "min_width": null,
       "object_fit": null,
       "object_position": null,
       "order": null,
       "overflow": null,
       "overflow_x": null,
       "overflow_y": null,
       "padding": null,
       "right": null,
       "top": null,
       "visibility": null,
       "width": null
      }
     },
     "6110d7eac6734e6e950478b4efe1a0e1": {
      "model_module": "@jupyter-widgets/controls",
      "model_module_version": "1.5.0",
      "model_name": "HTMLModel",
      "state": {
       "_dom_classes": [],
       "_model_module": "@jupyter-widgets/controls",
       "_model_module_version": "1.5.0",
       "_model_name": "HTMLModel",
       "_view_count": null,
       "_view_module": "@jupyter-widgets/controls",
       "_view_module_version": "1.5.0",
       "_view_name": "HTMLView",
       "description": "",
       "description_tooltip": null,
       "layout": "IPY_MODEL_8e0e8dd8607b467aba3710c029233b3c",
       "placeholder": "​",
       "style": "IPY_MODEL_3d3deb62d3bb48bdb55801c459844f60",
       "value": " 107064/107064 [07:49&lt;00:00, 228.00it/s]"
      }
     },
     "7164b7d4d7ca493c9682b5993a0031e6": {
      "model_module": "@jupyter-widgets/controls",
      "model_module_version": "1.5.0",
      "model_name": "FloatProgressModel",
      "state": {
       "_dom_classes": [],
       "_model_module": "@jupyter-widgets/controls",
       "_model_module_version": "1.5.0",
       "_model_name": "FloatProgressModel",
       "_view_count": null,
       "_view_module": "@jupyter-widgets/controls",
       "_view_module_version": "1.5.0",
       "_view_name": "ProgressView",
       "bar_style": "success",
       "description": "100%",
       "description_tooltip": null,
       "layout": "IPY_MODEL_5ada961bc3f344f99455e43c26ddf33f",
       "max": 107064.0,
       "min": 0.0,
       "orientation": "horizontal",
       "style": "IPY_MODEL_bff9b599f6a048c48592c287401a6309",
       "value": 107064.0
      }
     },
     "76431a61de9a45f48f1368323fcf45e0": {
      "model_module": "@jupyter-widgets/base",
      "model_module_version": "1.2.0",
      "model_name": "LayoutModel",
      "state": {
       "_model_module": "@jupyter-widgets/base",
       "_model_module_version": "1.2.0",
       "_model_name": "LayoutModel",
       "_view_count": null,
       "_view_module": "@jupyter-widgets/base",
       "_view_module_version": "1.2.0",
       "_view_name": "LayoutView",
       "align_content": null,
       "align_items": null,
       "align_self": null,
       "border": null,
       "bottom": null,
       "display": null,
       "flex": null,
       "flex_flow": null,
       "grid_area": null,
       "grid_auto_columns": null,
       "grid_auto_flow": null,
       "grid_auto_rows": null,
       "grid_column": null,
       "grid_gap": null,
       "grid_row": null,
       "grid_template_areas": null,
       "grid_template_columns": null,
       "grid_template_rows": null,
       "height": null,
       "justify_content": null,
       "justify_items": null,
       "left": null,
       "margin": null,
       "max_height": null,
       "max_width": null,
       "min_height": null,
       "min_width": null,
       "object_fit": null,
       "object_position": null,
       "order": null,
       "overflow": null,
       "overflow_x": null,
       "overflow_y": null,
       "padding": null,
       "right": null,
       "top": null,
       "visibility": null,
       "width": null
      }
     },
     "8b15f6ed2660468c95efebe57e855b1c": {
      "model_module": "@jupyter-widgets/base",
      "model_module_version": "1.2.0",
      "model_name": "LayoutModel",
      "state": {
       "_model_module": "@jupyter-widgets/base",
       "_model_module_version": "1.2.0",
       "_model_name": "LayoutModel",
       "_view_count": null,
       "_view_module": "@jupyter-widgets/base",
       "_view_module_version": "1.2.0",
       "_view_name": "LayoutView",
       "align_content": null,
       "align_items": null,
       "align_self": null,
       "border": null,
       "bottom": null,
       "display": null,
       "flex": null,
       "flex_flow": null,
       "grid_area": null,
       "grid_auto_columns": null,
       "grid_auto_flow": null,
       "grid_auto_rows": null,
       "grid_column": null,
       "grid_gap": null,
       "grid_row": null,
       "grid_template_areas": null,
       "grid_template_columns": null,
       "grid_template_rows": null,
       "height": null,
       "justify_content": null,
       "justify_items": null,
       "left": null,
       "margin": null,
       "max_height": null,
       "max_width": null,
       "min_height": null,
       "min_width": null,
       "object_fit": null,
       "object_position": null,
       "order": null,
       "overflow": null,
       "overflow_x": null,
       "overflow_y": null,
       "padding": null,
       "right": null,
       "top": null,
       "visibility": null,
       "width": null
      }
     },
     "8e0e8dd8607b467aba3710c029233b3c": {
      "model_module": "@jupyter-widgets/base",
      "model_module_version": "1.2.0",
      "model_name": "LayoutModel",
      "state": {
       "_model_module": "@jupyter-widgets/base",
       "_model_module_version": "1.2.0",
       "_model_name": "LayoutModel",
       "_view_count": null,
       "_view_module": "@jupyter-widgets/base",
       "_view_module_version": "1.2.0",
       "_view_name": "LayoutView",
       "align_content": null,
       "align_items": null,
       "align_self": null,
       "border": null,
       "bottom": null,
       "display": null,
       "flex": null,
       "flex_flow": null,
       "grid_area": null,
       "grid_auto_columns": null,
       "grid_auto_flow": null,
       "grid_auto_rows": null,
       "grid_column": null,
       "grid_gap": null,
       "grid_row": null,
       "grid_template_areas": null,
       "grid_template_columns": null,
       "grid_template_rows": null,
       "height": null,
       "justify_content": null,
       "justify_items": null,
       "left": null,
       "margin": null,
       "max_height": null,
       "max_width": null,
       "min_height": null,
       "min_width": null,
       "object_fit": null,
       "object_position": null,
       "order": null,
       "overflow": null,
       "overflow_x": null,
       "overflow_y": null,
       "padding": null,
       "right": null,
       "top": null,
       "visibility": null,
       "width": null
      }
     },
     "ac46c3232f8a48e4a70ab1e04a9d2a0a": {
      "model_module": "@jupyter-widgets/controls",
      "model_module_version": "1.5.0",
      "model_name": "HTMLModel",
      "state": {
       "_dom_classes": [],
       "_model_module": "@jupyter-widgets/controls",
       "_model_module_version": "1.5.0",
       "_model_name": "HTMLModel",
       "_view_count": null,
       "_view_module": "@jupyter-widgets/controls",
       "_view_module_version": "1.5.0",
       "_view_name": "HTMLView",
       "description": "",
       "description_tooltip": null,
       "layout": "IPY_MODEL_76431a61de9a45f48f1368323fcf45e0",
       "placeholder": "​",
       "style": "IPY_MODEL_f9ec0dd958a84a3084767b1b8e6babc9",
       "value": " 5948/5948 [4:56:25&lt;00:00,  2.99s/it]"
      }
     },
     "bff9b599f6a048c48592c287401a6309": {
      "model_module": "@jupyter-widgets/controls",
      "model_module_version": "1.5.0",
      "model_name": "ProgressStyleModel",
      "state": {
       "_model_module": "@jupyter-widgets/controls",
       "_model_module_version": "1.5.0",
       "_model_name": "ProgressStyleModel",
       "_view_count": null,
       "_view_module": "@jupyter-widgets/base",
       "_view_module_version": "1.2.0",
       "_view_name": "StyleView",
       "bar_color": null,
       "description_width": "initial"
      }
     },
     "d7a599d9e3124c45a5f0f6b239d3a34d": {
      "model_module": "@jupyter-widgets/base",
      "model_module_version": "1.2.0",
      "model_name": "LayoutModel",
      "state": {
       "_model_module": "@jupyter-widgets/base",
       "_model_module_version": "1.2.0",
       "_model_name": "LayoutModel",
       "_view_count": null,
       "_view_module": "@jupyter-widgets/base",
       "_view_module_version": "1.2.0",
       "_view_name": "LayoutView",
       "align_content": null,
       "align_items": null,
       "align_self": null,
       "border": null,
       "bottom": null,
       "display": null,
       "flex": null,
       "flex_flow": null,
       "grid_area": null,
       "grid_auto_columns": null,
       "grid_auto_flow": null,
       "grid_auto_rows": null,
       "grid_column": null,
       "grid_gap": null,
       "grid_row": null,
       "grid_template_areas": null,
       "grid_template_columns": null,
       "grid_template_rows": null,
       "height": null,
       "justify_content": null,
       "justify_items": null,
       "left": null,
       "margin": null,
       "max_height": null,
       "max_width": null,
       "min_height": null,
       "min_width": null,
       "object_fit": null,
       "object_position": null,
       "order": null,
       "overflow": null,
       "overflow_x": null,
       "overflow_y": null,
       "padding": null,
       "right": null,
       "top": null,
       "visibility": null,
       "width": null
      }
     },
     "e091d0ac328a4986b871e526104fde65": {
      "model_module": "@jupyter-widgets/controls",
      "model_module_version": "1.5.0",
      "model_name": "ProgressStyleModel",
      "state": {
       "_model_module": "@jupyter-widgets/controls",
       "_model_module_version": "1.5.0",
       "_model_name": "ProgressStyleModel",
       "_view_count": null,
       "_view_module": "@jupyter-widgets/base",
       "_view_module_version": "1.2.0",
       "_view_name": "StyleView",
       "bar_color": null,
       "description_width": "initial"
      }
     },
     "eaf8a92a8dce40b5a527efaf38d091fd": {
      "model_module": "@jupyter-widgets/controls",
      "model_module_version": "1.5.0",
      "model_name": "HBoxModel",
      "state": {
       "_dom_classes": [],
       "_model_module": "@jupyter-widgets/controls",
       "_model_module_version": "1.5.0",
       "_model_name": "HBoxModel",
       "_view_count": null,
       "_view_module": "@jupyter-widgets/controls",
       "_view_module_version": "1.5.0",
       "_view_name": "HBoxView",
       "box_style": "",
       "children": [
        "IPY_MODEL_41421791985a4ea68d036912dd637369",
        "IPY_MODEL_ac46c3232f8a48e4a70ab1e04a9d2a0a"
       ],
       "layout": "IPY_MODEL_8b15f6ed2660468c95efebe57e855b1c"
      }
     },
     "efd4c6eb3949446fbf6922eac1ae64ca": {
      "model_module": "@jupyter-widgets/base",
      "model_module_version": "1.2.0",
      "model_name": "LayoutModel",
      "state": {
       "_model_module": "@jupyter-widgets/base",
       "_model_module_version": "1.2.0",
       "_model_name": "LayoutModel",
       "_view_count": null,
       "_view_module": "@jupyter-widgets/base",
       "_view_module_version": "1.2.0",
       "_view_name": "LayoutView",
       "align_content": null,
       "align_items": null,
       "align_self": null,
       "border": null,
       "bottom": null,
       "display": null,
       "flex": null,
       "flex_flow": null,
       "grid_area": null,
       "grid_auto_columns": null,
       "grid_auto_flow": null,
       "grid_auto_rows": null,
       "grid_column": null,
       "grid_gap": null,
       "grid_row": null,
       "grid_template_areas": null,
       "grid_template_columns": null,
       "grid_template_rows": null,
       "height": null,
       "justify_content": null,
       "justify_items": null,
       "left": null,
       "margin": null,
       "max_height": null,
       "max_width": null,
       "min_height": null,
       "min_width": null,
       "object_fit": null,
       "object_position": null,
       "order": null,
       "overflow": null,
       "overflow_x": null,
       "overflow_y": null,
       "padding": null,
       "right": null,
       "top": null,
       "visibility": null,
       "width": null
      }
     },
     "f9ec0dd958a84a3084767b1b8e6babc9": {
      "model_module": "@jupyter-widgets/controls",
      "model_module_version": "1.5.0",
      "model_name": "DescriptionStyleModel",
      "state": {
       "_model_module": "@jupyter-widgets/controls",
       "_model_module_version": "1.5.0",
       "_model_name": "DescriptionStyleModel",
       "_view_count": null,
       "_view_module": "@jupyter-widgets/base",
       "_view_module_version": "1.2.0",
       "_view_name": "StyleView",
       "description_width": ""
      }
     }
    },
    "version_major": 2,
    "version_minor": 0
   }
  }
 },
 "nbformat": 4,
 "nbformat_minor": 4
}
